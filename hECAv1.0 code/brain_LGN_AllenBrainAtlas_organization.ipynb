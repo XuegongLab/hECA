{
 "cells": [
  {
   "cell_type": "code",
   "execution_count": 6,
   "metadata": {},
   "outputs": [],
   "source": [
    "setwd('/stor/public/hcad/brain_LGN_AllenBrainAtlas/')\n",
    "library(dplyr)\n",
    "exon <- read.csv(\"brain_LGN_AllenBrainAtlas_expression.exon.tsv\", check.names = FALSE, sep = '\\t')\n",
    "intron <- read.csv(\"brain_LGN_AllenBrainAtlas_expression.intron.tsv\", check.names = FALSE, sep = '\\t')"
   ]
  },
  {
   "cell_type": "code",
   "execution_count": 12,
   "metadata": {},
   "outputs": [
    {
     "data": {
      "text/html": [
       "<table>\n",
       "<caption>A data.frame: 10 × 10</caption>\n",
       "<thead>\n",
       "\t<tr><th scope=col>cell_ID</th><th scope=col>F1S4_161018_001_A01</th><th scope=col>F1S4_161018_001_B01</th><th scope=col>F1S4_161018_001_C01</th><th scope=col>F1S4_161018_001_E01</th><th scope=col>F1S4_161018_001_F01</th><th scope=col>F1S4_161018_001_G01</th><th scope=col>F1S4_161018_001_H01</th><th scope=col>F1S4_161018_002_A01</th><th scope=col>F1S4_161018_002_B01</th></tr>\n",
       "\t<tr><th scope=col>&lt;fct&gt;</th><th scope=col>&lt;int&gt;</th><th scope=col>&lt;int&gt;</th><th scope=col>&lt;int&gt;</th><th scope=col>&lt;int&gt;</th><th scope=col>&lt;int&gt;</th><th scope=col>&lt;int&gt;</th><th scope=col>&lt;int&gt;</th><th scope=col>&lt;int&gt;</th><th scope=col>&lt;int&gt;</th></tr>\n",
       "</thead>\n",
       "<tbody>\n",
       "\t<tr><td>3.8-1.2 </td><td>0</td><td> 0</td><td>0</td><td>0</td><td> 0</td><td> 0</td><td> 0</td><td>0</td><td> 0</td></tr>\n",
       "\t<tr><td>3.8-1.3 </td><td>0</td><td> 0</td><td>0</td><td>0</td><td> 0</td><td> 0</td><td> 0</td><td>0</td><td> 0</td></tr>\n",
       "\t<tr><td>3.8-1.4 </td><td>0</td><td> 0</td><td>0</td><td>0</td><td> 0</td><td> 0</td><td> 0</td><td>0</td><td> 0</td></tr>\n",
       "\t<tr><td>3.8-1.5 </td><td>0</td><td> 0</td><td>0</td><td>0</td><td> 0</td><td> 0</td><td> 0</td><td>0</td><td> 0</td></tr>\n",
       "\t<tr><td>5-HT3C2 </td><td>2</td><td> 0</td><td>0</td><td>0</td><td> 0</td><td> 0</td><td> 0</td><td>0</td><td> 0</td></tr>\n",
       "\t<tr><td>A1BG    </td><td>0</td><td> 0</td><td>0</td><td>0</td><td> 0</td><td> 0</td><td>81</td><td>5</td><td> 0</td></tr>\n",
       "\t<tr><td>A1BG-AS1</td><td>0</td><td> 0</td><td>0</td><td>0</td><td> 0</td><td> 0</td><td> 0</td><td>0</td><td> 0</td></tr>\n",
       "\t<tr><td>A1CF    </td><td>0</td><td>94</td><td>0</td><td>0</td><td> 0</td><td> 0</td><td> 0</td><td>0</td><td> 0</td></tr>\n",
       "\t<tr><td>A2M     </td><td>0</td><td> 0</td><td>0</td><td>4</td><td>14</td><td>47</td><td> 0</td><td>0</td><td>54</td></tr>\n",
       "\t<tr><td>A2M-AS1 </td><td>0</td><td> 0</td><td>0</td><td>0</td><td> 0</td><td> 0</td><td> 0</td><td>0</td><td>47</td></tr>\n",
       "</tbody>\n",
       "</table>\n"
      ],
      "text/latex": [
       "A data.frame: 10 × 10\n",
       "\\begin{tabular}{r|llllllllll}\n",
       " cell\\_ID & F1S4\\_161018\\_001\\_A01 & F1S4\\_161018\\_001\\_B01 & F1S4\\_161018\\_001\\_C01 & F1S4\\_161018\\_001\\_E01 & F1S4\\_161018\\_001\\_F01 & F1S4\\_161018\\_001\\_G01 & F1S4\\_161018\\_001\\_H01 & F1S4\\_161018\\_002\\_A01 & F1S4\\_161018\\_002\\_B01\\\\\n",
       " <fct> & <int> & <int> & <int> & <int> & <int> & <int> & <int> & <int> & <int>\\\\\n",
       "\\hline\n",
       "\t 3.8-1.2  & 0 &  0 & 0 & 0 &  0 &  0 &  0 & 0 &  0\\\\\n",
       "\t 3.8-1.3  & 0 &  0 & 0 & 0 &  0 &  0 &  0 & 0 &  0\\\\\n",
       "\t 3.8-1.4  & 0 &  0 & 0 & 0 &  0 &  0 &  0 & 0 &  0\\\\\n",
       "\t 3.8-1.5  & 0 &  0 & 0 & 0 &  0 &  0 &  0 & 0 &  0\\\\\n",
       "\t 5-HT3C2  & 2 &  0 & 0 & 0 &  0 &  0 &  0 & 0 &  0\\\\\n",
       "\t A1BG     & 0 &  0 & 0 & 0 &  0 &  0 & 81 & 5 &  0\\\\\n",
       "\t A1BG-AS1 & 0 &  0 & 0 & 0 &  0 &  0 &  0 & 0 &  0\\\\\n",
       "\t A1CF     & 0 & 94 & 0 & 0 &  0 &  0 &  0 & 0 &  0\\\\\n",
       "\t A2M      & 0 &  0 & 0 & 4 & 14 & 47 &  0 & 0 & 54\\\\\n",
       "\t A2M-AS1  & 0 &  0 & 0 & 0 &  0 &  0 &  0 & 0 & 47\\\\\n",
       "\\end{tabular}\n"
      ],
      "text/markdown": [
       "\n",
       "A data.frame: 10 × 10\n",
       "\n",
       "| cell_ID &lt;fct&gt; | F1S4_161018_001_A01 &lt;int&gt; | F1S4_161018_001_B01 &lt;int&gt; | F1S4_161018_001_C01 &lt;int&gt; | F1S4_161018_001_E01 &lt;int&gt; | F1S4_161018_001_F01 &lt;int&gt; | F1S4_161018_001_G01 &lt;int&gt; | F1S4_161018_001_H01 &lt;int&gt; | F1S4_161018_002_A01 &lt;int&gt; | F1S4_161018_002_B01 &lt;int&gt; |\n",
       "|---|---|---|---|---|---|---|---|---|---|\n",
       "| 3.8-1.2  | 0 |  0 | 0 | 0 |  0 |  0 |  0 | 0 |  0 |\n",
       "| 3.8-1.3  | 0 |  0 | 0 | 0 |  0 |  0 |  0 | 0 |  0 |\n",
       "| 3.8-1.4  | 0 |  0 | 0 | 0 |  0 |  0 |  0 | 0 |  0 |\n",
       "| 3.8-1.5  | 0 |  0 | 0 | 0 |  0 |  0 |  0 | 0 |  0 |\n",
       "| 5-HT3C2  | 2 |  0 | 0 | 0 |  0 |  0 |  0 | 0 |  0 |\n",
       "| A1BG     | 0 |  0 | 0 | 0 |  0 |  0 | 81 | 5 |  0 |\n",
       "| A1BG-AS1 | 0 |  0 | 0 | 0 |  0 |  0 |  0 | 0 |  0 |\n",
       "| A1CF     | 0 | 94 | 0 | 0 |  0 |  0 |  0 | 0 |  0 |\n",
       "| A2M      | 0 |  0 | 0 | 4 | 14 | 47 |  0 | 0 | 54 |\n",
       "| A2M-AS1  | 0 |  0 | 0 | 0 |  0 |  0 |  0 | 0 | 47 |\n",
       "\n"
      ],
      "text/plain": [
       "   cell_ID  F1S4_161018_001_A01 F1S4_161018_001_B01 F1S4_161018_001_C01\n",
       "1  3.8-1.2  0                    0                  0                  \n",
       "2  3.8-1.3  0                    0                  0                  \n",
       "3  3.8-1.4  0                    0                  0                  \n",
       "4  3.8-1.5  0                    0                  0                  \n",
       "5  5-HT3C2  2                    0                  0                  \n",
       "6  A1BG     0                    0                  0                  \n",
       "7  A1BG-AS1 0                    0                  0                  \n",
       "8  A1CF     0                   94                  0                  \n",
       "9  A2M      0                    0                  0                  \n",
       "10 A2M-AS1  0                    0                  0                  \n",
       "   F1S4_161018_001_E01 F1S4_161018_001_F01 F1S4_161018_001_G01\n",
       "1  0                    0                   0                 \n",
       "2  0                    0                   0                 \n",
       "3  0                    0                   0                 \n",
       "4  0                    0                   0                 \n",
       "5  0                    0                   0                 \n",
       "6  0                    0                   0                 \n",
       "7  0                    0                   0                 \n",
       "8  0                    0                   0                 \n",
       "9  4                   14                  47                 \n",
       "10 0                    0                   0                 \n",
       "   F1S4_161018_001_H01 F1S4_161018_002_A01 F1S4_161018_002_B01\n",
       "1   0                  0                    0                 \n",
       "2   0                  0                    0                 \n",
       "3   0                  0                    0                 \n",
       "4   0                  0                    0                 \n",
       "5   0                  0                    0                 \n",
       "6  81                  5                    0                 \n",
       "7   0                  0                    0                 \n",
       "8   0                  0                    0                 \n",
       "9   0                  0                   54                 \n",
       "10  0                  0                   47                 "
      ]
     },
     "metadata": {},
     "output_type": "display_data"
    }
   ],
   "source": [
    "exon[1:10, 1:10]"
   ]
  },
  {
   "cell_type": "code",
   "execution_count": 14,
   "metadata": {},
   "outputs": [],
   "source": [
    "genes <- exon$cell_ID"
   ]
  },
  {
   "cell_type": "code",
   "execution_count": 16,
   "metadata": {},
   "outputs": [
    {
     "name": "stderr",
     "output_type": "stream",
     "text": [
      "Warning message in Ops.factor(left, right):\n",
      "“‘+’ not meaningful for factors”"
     ]
    },
    {
     "data": {
      "text/html": [
       "<table>\n",
       "<caption>A data.frame: 10 × 10</caption>\n",
       "<thead>\n",
       "\t<tr><th scope=col>cell_ID</th><th scope=col>F1S4_161018_001_A01</th><th scope=col>F1S4_161018_001_B01</th><th scope=col>F1S4_161018_001_C01</th><th scope=col>F1S4_161018_001_E01</th><th scope=col>F1S4_161018_001_F01</th><th scope=col>F1S4_161018_001_G01</th><th scope=col>F1S4_161018_001_H01</th><th scope=col>F1S4_161018_002_A01</th><th scope=col>F1S4_161018_002_B01</th></tr>\n",
       "\t<tr><th scope=col>&lt;fct&gt;</th><th scope=col>&lt;int&gt;</th><th scope=col>&lt;int&gt;</th><th scope=col>&lt;int&gt;</th><th scope=col>&lt;int&gt;</th><th scope=col>&lt;int&gt;</th><th scope=col>&lt;int&gt;</th><th scope=col>&lt;int&gt;</th><th scope=col>&lt;int&gt;</th><th scope=col>&lt;int&gt;</th></tr>\n",
       "</thead>\n",
       "<tbody>\n",
       "\t<tr><td>3.8-1.2 </td><td>0</td><td> 0</td><td>  0</td><td>0</td><td> 0</td><td>  0</td><td> 0</td><td>0</td><td>  0</td></tr>\n",
       "\t<tr><td>3.8-1.3 </td><td>0</td><td> 0</td><td>  0</td><td>0</td><td> 0</td><td>  0</td><td> 0</td><td>0</td><td>  0</td></tr>\n",
       "\t<tr><td>3.8-1.4 </td><td>0</td><td> 0</td><td>  0</td><td>0</td><td> 0</td><td>  0</td><td> 0</td><td>0</td><td>  0</td></tr>\n",
       "\t<tr><td>3.8-1.5 </td><td>0</td><td> 0</td><td>  0</td><td>0</td><td> 0</td><td>  0</td><td> 0</td><td>0</td><td>  0</td></tr>\n",
       "\t<tr><td>5-HT3C2 </td><td>2</td><td> 0</td><td>  0</td><td>0</td><td> 0</td><td>  0</td><td> 0</td><td>0</td><td>  0</td></tr>\n",
       "\t<tr><td>A1BG    </td><td>0</td><td> 0</td><td>  0</td><td>0</td><td> 0</td><td>  0</td><td>81</td><td>7</td><td>  0</td></tr>\n",
       "\t<tr><td>A1BG-AS1</td><td>0</td><td> 0</td><td>  0</td><td>0</td><td> 0</td><td>  0</td><td> 0</td><td>0</td><td>  0</td></tr>\n",
       "\t<tr><td>A1CF    </td><td>0</td><td>94</td><td>  0</td><td>0</td><td> 0</td><td>  0</td><td> 0</td><td>0</td><td>  0</td></tr>\n",
       "\t<tr><td>A2M     </td><td>0</td><td> 6</td><td>244</td><td>7</td><td>86</td><td>101</td><td>96</td><td>7</td><td>333</td></tr>\n",
       "\t<tr><td>A2M-AS1 </td><td>0</td><td> 0</td><td>  0</td><td>0</td><td> 0</td><td>  0</td><td> 0</td><td>0</td><td> 47</td></tr>\n",
       "</tbody>\n",
       "</table>\n"
      ],
      "text/latex": [
       "A data.frame: 10 × 10\n",
       "\\begin{tabular}{r|llllllllll}\n",
       " cell\\_ID & F1S4\\_161018\\_001\\_A01 & F1S4\\_161018\\_001\\_B01 & F1S4\\_161018\\_001\\_C01 & F1S4\\_161018\\_001\\_E01 & F1S4\\_161018\\_001\\_F01 & F1S4\\_161018\\_001\\_G01 & F1S4\\_161018\\_001\\_H01 & F1S4\\_161018\\_002\\_A01 & F1S4\\_161018\\_002\\_B01\\\\\n",
       " <fct> & <int> & <int> & <int> & <int> & <int> & <int> & <int> & <int> & <int>\\\\\n",
       "\\hline\n",
       "\t 3.8-1.2  & 0 &  0 &   0 & 0 &  0 &   0 &  0 & 0 &   0\\\\\n",
       "\t 3.8-1.3  & 0 &  0 &   0 & 0 &  0 &   0 &  0 & 0 &   0\\\\\n",
       "\t 3.8-1.4  & 0 &  0 &   0 & 0 &  0 &   0 &  0 & 0 &   0\\\\\n",
       "\t 3.8-1.5  & 0 &  0 &   0 & 0 &  0 &   0 &  0 & 0 &   0\\\\\n",
       "\t 5-HT3C2  & 2 &  0 &   0 & 0 &  0 &   0 &  0 & 0 &   0\\\\\n",
       "\t A1BG     & 0 &  0 &   0 & 0 &  0 &   0 & 81 & 7 &   0\\\\\n",
       "\t A1BG-AS1 & 0 &  0 &   0 & 0 &  0 &   0 &  0 & 0 &   0\\\\\n",
       "\t A1CF     & 0 & 94 &   0 & 0 &  0 &   0 &  0 & 0 &   0\\\\\n",
       "\t A2M      & 0 &  6 & 244 & 7 & 86 & 101 & 96 & 7 & 333\\\\\n",
       "\t A2M-AS1  & 0 &  0 &   0 & 0 &  0 &   0 &  0 & 0 &  47\\\\\n",
       "\\end{tabular}\n"
      ],
      "text/markdown": [
       "\n",
       "A data.frame: 10 × 10\n",
       "\n",
       "| cell_ID &lt;fct&gt; | F1S4_161018_001_A01 &lt;int&gt; | F1S4_161018_001_B01 &lt;int&gt; | F1S4_161018_001_C01 &lt;int&gt; | F1S4_161018_001_E01 &lt;int&gt; | F1S4_161018_001_F01 &lt;int&gt; | F1S4_161018_001_G01 &lt;int&gt; | F1S4_161018_001_H01 &lt;int&gt; | F1S4_161018_002_A01 &lt;int&gt; | F1S4_161018_002_B01 &lt;int&gt; |\n",
       "|---|---|---|---|---|---|---|---|---|---|\n",
       "| 3.8-1.2  | 0 |  0 |   0 | 0 |  0 |   0 |  0 | 0 |   0 |\n",
       "| 3.8-1.3  | 0 |  0 |   0 | 0 |  0 |   0 |  0 | 0 |   0 |\n",
       "| 3.8-1.4  | 0 |  0 |   0 | 0 |  0 |   0 |  0 | 0 |   0 |\n",
       "| 3.8-1.5  | 0 |  0 |   0 | 0 |  0 |   0 |  0 | 0 |   0 |\n",
       "| 5-HT3C2  | 2 |  0 |   0 | 0 |  0 |   0 |  0 | 0 |   0 |\n",
       "| A1BG     | 0 |  0 |   0 | 0 |  0 |   0 | 81 | 7 |   0 |\n",
       "| A1BG-AS1 | 0 |  0 |   0 | 0 |  0 |   0 |  0 | 0 |   0 |\n",
       "| A1CF     | 0 | 94 |   0 | 0 |  0 |   0 |  0 | 0 |   0 |\n",
       "| A2M      | 0 |  6 | 244 | 7 | 86 | 101 | 96 | 7 | 333 |\n",
       "| A2M-AS1  | 0 |  0 |   0 | 0 |  0 |   0 |  0 | 0 |  47 |\n",
       "\n"
      ],
      "text/plain": [
       "   cell_ID  F1S4_161018_001_A01 F1S4_161018_001_B01 F1S4_161018_001_C01\n",
       "1  3.8-1.2  0                    0                    0                \n",
       "2  3.8-1.3  0                    0                    0                \n",
       "3  3.8-1.4  0                    0                    0                \n",
       "4  3.8-1.5  0                    0                    0                \n",
       "5  5-HT3C2  2                    0                    0                \n",
       "6  A1BG     0                    0                    0                \n",
       "7  A1BG-AS1 0                    0                    0                \n",
       "8  A1CF     0                   94                    0                \n",
       "9  A2M      0                    6                  244                \n",
       "10 A2M-AS1  0                    0                    0                \n",
       "   F1S4_161018_001_E01 F1S4_161018_001_F01 F1S4_161018_001_G01\n",
       "1  0                    0                    0                \n",
       "2  0                    0                    0                \n",
       "3  0                    0                    0                \n",
       "4  0                    0                    0                \n",
       "5  0                    0                    0                \n",
       "6  0                    0                    0                \n",
       "7  0                    0                    0                \n",
       "8  0                    0                    0                \n",
       "9  7                   86                  101                \n",
       "10 0                    0                    0                \n",
       "   F1S4_161018_001_H01 F1S4_161018_002_A01 F1S4_161018_002_B01\n",
       "1   0                  0                     0                \n",
       "2   0                  0                     0                \n",
       "3   0                  0                     0                \n",
       "4   0                  0                     0                \n",
       "5   0                  0                     0                \n",
       "6  81                  7                     0                \n",
       "7   0                  0                     0                \n",
       "8   0                  0                     0                \n",
       "9  96                  7                   333                \n",
       "10  0                  0                    47                "
      ]
     },
     "metadata": {},
     "output_type": "display_data"
    }
   ],
   "source": [
    "mat <- exon + intron\n",
    "mat$cell_ID <- genes\n",
    "mat[1:10, 1:10]"
   ]
  },
  {
   "cell_type": "code",
   "execution_count": 17,
   "metadata": {},
   "outputs": [],
   "source": [
    "write.table(mat, file = \"brain_LGN_AllenBrainAtlas_expression.tsv\", sep = \"\\t\", quote = FALSE, row.names = FALSE)"
   ]
  }
 ],
 "metadata": {
  "kernelspec": {
   "display_name": "R",
   "language": "R",
   "name": "ir"
  },
  "language_info": {
   "codemirror_mode": "r",
   "file_extension": ".r",
   "mimetype": "text/x-r-source",
   "name": "R",
   "pygments_lexer": "r",
   "version": "3.6.1"
  }
 },
 "nbformat": 4,
 "nbformat_minor": 2
}
