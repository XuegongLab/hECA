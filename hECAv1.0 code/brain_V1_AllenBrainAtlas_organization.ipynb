{
 "cells": [
  {
   "cell_type": "code",
   "execution_count": 2,
   "metadata": {},
   "outputs": [
    {
     "name": "stderr",
     "output_type": "stream",
     "text": [
      "\n",
      "Attaching package: ‘dplyr’\n",
      "\n",
      "The following objects are masked from ‘package:stats’:\n",
      "\n",
      "    filter, lag\n",
      "\n",
      "The following objects are masked from ‘package:base’:\n",
      "\n",
      "    intersect, setdiff, setequal, union\n",
      "\n"
     ]
    }
   ],
   "source": [
    "setwd('/stor/public/hcad/brain_V1_AllenBrainAtlas/')\n",
    "library(dplyr)\n",
    "exon <- read.csv(\"human_VISp_2018-10-04_exon-matrix.csv\", row.names = 1, check.names = FALSE)\n",
    "intron <- read.csv(\"human_VISp_2018-10-04_intron-matrix.csv\", row.names = 1, check.names = FALSE)"
   ]
  },
  {
   "cell_type": "code",
   "execution_count": 3,
   "metadata": {},
   "outputs": [
    {
     "data": {
      "text/html": [
       "<table>\n",
       "<caption>A data.frame: 10 × 10</caption>\n",
       "<thead>\n",
       "\t<tr><th></th><th scope=col>SM-D9E6H_S81_E1-50</th><th scope=col>SM-D9E6H_S82_E1-50</th><th scope=col>SM-D9E6H_S83_E1-50</th><th scope=col>SM-D9E6H_S84_E1-50</th><th scope=col>SM-D9E6H_S85_E1-50</th><th scope=col>SM-D9E6H_S86_E1-50</th><th scope=col>SM-D9E6H_S87_E1-50</th><th scope=col>SM-D9E6H_S88_E1-50</th><th scope=col>SM-D9E6H_S89_E1-50</th><th scope=col>SM-D9E6H_S90_E1-50</th></tr>\n",
       "\t<tr><th></th><th scope=col>&lt;int&gt;</th><th scope=col>&lt;int&gt;</th><th scope=col>&lt;int&gt;</th><th scope=col>&lt;int&gt;</th><th scope=col>&lt;int&gt;</th><th scope=col>&lt;int&gt;</th><th scope=col>&lt;int&gt;</th><th scope=col>&lt;int&gt;</th><th scope=col>&lt;int&gt;</th><th scope=col>&lt;int&gt;</th></tr>\n",
       "</thead>\n",
       "<tbody>\n",
       "\t<tr><th scope=row>3.8-1.2</th><td>0</td><td>0</td><td>0</td><td>0</td><td>0</td><td>0</td><td>0</td><td>0</td><td>0</td><td>0</td></tr>\n",
       "\t<tr><th scope=row>3.8-1.3</th><td>0</td><td>0</td><td>0</td><td>0</td><td>0</td><td>0</td><td>0</td><td>0</td><td>0</td><td>0</td></tr>\n",
       "\t<tr><th scope=row>3.8-1.4</th><td>0</td><td>0</td><td>0</td><td>0</td><td>0</td><td>0</td><td>0</td><td>0</td><td>0</td><td>0</td></tr>\n",
       "\t<tr><th scope=row>3.8-1.5</th><td>0</td><td>0</td><td>0</td><td>0</td><td>0</td><td>0</td><td>0</td><td>0</td><td>0</td><td>0</td></tr>\n",
       "\t<tr><th scope=row>5-HT3C2</th><td>0</td><td>0</td><td>0</td><td>0</td><td>0</td><td>0</td><td>0</td><td>0</td><td>0</td><td>0</td></tr>\n",
       "\t<tr><th scope=row>A1BG</th><td>0</td><td>0</td><td>0</td><td>0</td><td>0</td><td>0</td><td>0</td><td>0</td><td>0</td><td>0</td></tr>\n",
       "\t<tr><th scope=row>A1BG-AS1</th><td>0</td><td>0</td><td>0</td><td>0</td><td>0</td><td>0</td><td>0</td><td>0</td><td>0</td><td>0</td></tr>\n",
       "\t<tr><th scope=row>A1CF</th><td>0</td><td>0</td><td>0</td><td>0</td><td>0</td><td>0</td><td>0</td><td>0</td><td>0</td><td>0</td></tr>\n",
       "\t<tr><th scope=row>A2M</th><td>0</td><td>0</td><td>0</td><td>0</td><td>0</td><td>0</td><td>0</td><td>0</td><td>0</td><td>0</td></tr>\n",
       "\t<tr><th scope=row>A2M-AS1</th><td>0</td><td>0</td><td>0</td><td>0</td><td>0</td><td>0</td><td>0</td><td>0</td><td>0</td><td>0</td></tr>\n",
       "</tbody>\n",
       "</table>\n"
      ],
      "text/latex": [
       "A data.frame: 10 × 10\n",
       "\\begin{tabular}{r|llllllllll}\n",
       "  & SM-D9E6H\\_S81\\_E1-50 & SM-D9E6H\\_S82\\_E1-50 & SM-D9E6H\\_S83\\_E1-50 & SM-D9E6H\\_S84\\_E1-50 & SM-D9E6H\\_S85\\_E1-50 & SM-D9E6H\\_S86\\_E1-50 & SM-D9E6H\\_S87\\_E1-50 & SM-D9E6H\\_S88\\_E1-50 & SM-D9E6H\\_S89\\_E1-50 & SM-D9E6H\\_S90\\_E1-50\\\\\n",
       "  & <int> & <int> & <int> & <int> & <int> & <int> & <int> & <int> & <int> & <int>\\\\\n",
       "\\hline\n",
       "\t3.8-1.2 & 0 & 0 & 0 & 0 & 0 & 0 & 0 & 0 & 0 & 0\\\\\n",
       "\t3.8-1.3 & 0 & 0 & 0 & 0 & 0 & 0 & 0 & 0 & 0 & 0\\\\\n",
       "\t3.8-1.4 & 0 & 0 & 0 & 0 & 0 & 0 & 0 & 0 & 0 & 0\\\\\n",
       "\t3.8-1.5 & 0 & 0 & 0 & 0 & 0 & 0 & 0 & 0 & 0 & 0\\\\\n",
       "\t5-HT3C2 & 0 & 0 & 0 & 0 & 0 & 0 & 0 & 0 & 0 & 0\\\\\n",
       "\tA1BG & 0 & 0 & 0 & 0 & 0 & 0 & 0 & 0 & 0 & 0\\\\\n",
       "\tA1BG-AS1 & 0 & 0 & 0 & 0 & 0 & 0 & 0 & 0 & 0 & 0\\\\\n",
       "\tA1CF & 0 & 0 & 0 & 0 & 0 & 0 & 0 & 0 & 0 & 0\\\\\n",
       "\tA2M & 0 & 0 & 0 & 0 & 0 & 0 & 0 & 0 & 0 & 0\\\\\n",
       "\tA2M-AS1 & 0 & 0 & 0 & 0 & 0 & 0 & 0 & 0 & 0 & 0\\\\\n",
       "\\end{tabular}\n"
      ],
      "text/markdown": [
       "\n",
       "A data.frame: 10 × 10\n",
       "\n",
       "| <!--/--> | SM-D9E6H_S81_E1-50 &lt;int&gt; | SM-D9E6H_S82_E1-50 &lt;int&gt; | SM-D9E6H_S83_E1-50 &lt;int&gt; | SM-D9E6H_S84_E1-50 &lt;int&gt; | SM-D9E6H_S85_E1-50 &lt;int&gt; | SM-D9E6H_S86_E1-50 &lt;int&gt; | SM-D9E6H_S87_E1-50 &lt;int&gt; | SM-D9E6H_S88_E1-50 &lt;int&gt; | SM-D9E6H_S89_E1-50 &lt;int&gt; | SM-D9E6H_S90_E1-50 &lt;int&gt; |\n",
       "|---|---|---|---|---|---|---|---|---|---|---|\n",
       "| 3.8-1.2 | 0 | 0 | 0 | 0 | 0 | 0 | 0 | 0 | 0 | 0 |\n",
       "| 3.8-1.3 | 0 | 0 | 0 | 0 | 0 | 0 | 0 | 0 | 0 | 0 |\n",
       "| 3.8-1.4 | 0 | 0 | 0 | 0 | 0 | 0 | 0 | 0 | 0 | 0 |\n",
       "| 3.8-1.5 | 0 | 0 | 0 | 0 | 0 | 0 | 0 | 0 | 0 | 0 |\n",
       "| 5-HT3C2 | 0 | 0 | 0 | 0 | 0 | 0 | 0 | 0 | 0 | 0 |\n",
       "| A1BG | 0 | 0 | 0 | 0 | 0 | 0 | 0 | 0 | 0 | 0 |\n",
       "| A1BG-AS1 | 0 | 0 | 0 | 0 | 0 | 0 | 0 | 0 | 0 | 0 |\n",
       "| A1CF | 0 | 0 | 0 | 0 | 0 | 0 | 0 | 0 | 0 | 0 |\n",
       "| A2M | 0 | 0 | 0 | 0 | 0 | 0 | 0 | 0 | 0 | 0 |\n",
       "| A2M-AS1 | 0 | 0 | 0 | 0 | 0 | 0 | 0 | 0 | 0 | 0 |\n",
       "\n"
      ],
      "text/plain": [
       "         SM-D9E6H_S81_E1-50 SM-D9E6H_S82_E1-50 SM-D9E6H_S83_E1-50\n",
       "3.8-1.2  0                  0                  0                 \n",
       "3.8-1.3  0                  0                  0                 \n",
       "3.8-1.4  0                  0                  0                 \n",
       "3.8-1.5  0                  0                  0                 \n",
       "5-HT3C2  0                  0                  0                 \n",
       "A1BG     0                  0                  0                 \n",
       "A1BG-AS1 0                  0                  0                 \n",
       "A1CF     0                  0                  0                 \n",
       "A2M      0                  0                  0                 \n",
       "A2M-AS1  0                  0                  0                 \n",
       "         SM-D9E6H_S84_E1-50 SM-D9E6H_S85_E1-50 SM-D9E6H_S86_E1-50\n",
       "3.8-1.2  0                  0                  0                 \n",
       "3.8-1.3  0                  0                  0                 \n",
       "3.8-1.4  0                  0                  0                 \n",
       "3.8-1.5  0                  0                  0                 \n",
       "5-HT3C2  0                  0                  0                 \n",
       "A1BG     0                  0                  0                 \n",
       "A1BG-AS1 0                  0                  0                 \n",
       "A1CF     0                  0                  0                 \n",
       "A2M      0                  0                  0                 \n",
       "A2M-AS1  0                  0                  0                 \n",
       "         SM-D9E6H_S87_E1-50 SM-D9E6H_S88_E1-50 SM-D9E6H_S89_E1-50\n",
       "3.8-1.2  0                  0                  0                 \n",
       "3.8-1.3  0                  0                  0                 \n",
       "3.8-1.4  0                  0                  0                 \n",
       "3.8-1.5  0                  0                  0                 \n",
       "5-HT3C2  0                  0                  0                 \n",
       "A1BG     0                  0                  0                 \n",
       "A1BG-AS1 0                  0                  0                 \n",
       "A1CF     0                  0                  0                 \n",
       "A2M      0                  0                  0                 \n",
       "A2M-AS1  0                  0                  0                 \n",
       "         SM-D9E6H_S90_E1-50\n",
       "3.8-1.2  0                 \n",
       "3.8-1.3  0                 \n",
       "3.8-1.4  0                 \n",
       "3.8-1.5  0                 \n",
       "5-HT3C2  0                 \n",
       "A1BG     0                 \n",
       "A1BG-AS1 0                 \n",
       "A1CF     0                 \n",
       "A2M      0                 \n",
       "A2M-AS1  0                 "
      ]
     },
     "metadata": {},
     "output_type": "display_data"
    }
   ],
   "source": [
    "exon[1:10, 1:10]"
   ]
  },
  {
   "cell_type": "code",
   "execution_count": 4,
   "metadata": {},
   "outputs": [
    {
     "data": {
      "text/plain": [
       "NULL"
      ]
     },
     "metadata": {},
     "output_type": "display_data"
    }
   ],
   "source": [
    "genes <- exon$cell_ID\n",
    "genes"
   ]
  },
  {
   "cell_type": "code",
   "execution_count": 5,
   "metadata": {},
   "outputs": [
    {
     "data": {
      "text/html": [
       "<table>\n",
       "<caption>A data.frame: 10 × 10</caption>\n",
       "<thead>\n",
       "\t<tr><th></th><th scope=col>SM-D9E6H_S81_E1-50</th><th scope=col>SM-D9E6H_S82_E1-50</th><th scope=col>SM-D9E6H_S83_E1-50</th><th scope=col>SM-D9E6H_S84_E1-50</th><th scope=col>SM-D9E6H_S85_E1-50</th><th scope=col>SM-D9E6H_S86_E1-50</th><th scope=col>SM-D9E6H_S87_E1-50</th><th scope=col>SM-D9E6H_S88_E1-50</th><th scope=col>SM-D9E6H_S89_E1-50</th><th scope=col>SM-D9E6H_S90_E1-50</th></tr>\n",
       "\t<tr><th></th><th scope=col>&lt;int&gt;</th><th scope=col>&lt;int&gt;</th><th scope=col>&lt;int&gt;</th><th scope=col>&lt;int&gt;</th><th scope=col>&lt;int&gt;</th><th scope=col>&lt;int&gt;</th><th scope=col>&lt;int&gt;</th><th scope=col>&lt;int&gt;</th><th scope=col>&lt;int&gt;</th><th scope=col>&lt;int&gt;</th></tr>\n",
       "</thead>\n",
       "<tbody>\n",
       "\t<tr><th scope=row>3.8-1.2</th><td>0</td><td>0</td><td>0</td><td>0</td><td>0</td><td>0</td><td>  0</td><td>0</td><td> 0</td><td>0</td></tr>\n",
       "\t<tr><th scope=row>3.8-1.3</th><td>0</td><td>0</td><td>0</td><td>0</td><td>0</td><td>0</td><td>  0</td><td>0</td><td> 0</td><td>0</td></tr>\n",
       "\t<tr><th scope=row>3.8-1.4</th><td>0</td><td>0</td><td>0</td><td>0</td><td>0</td><td>0</td><td>  0</td><td>0</td><td> 0</td><td>0</td></tr>\n",
       "\t<tr><th scope=row>3.8-1.5</th><td>0</td><td>0</td><td>0</td><td>0</td><td>0</td><td>0</td><td>  0</td><td>0</td><td> 0</td><td>0</td></tr>\n",
       "\t<tr><th scope=row>5-HT3C2</th><td>0</td><td>0</td><td>0</td><td>0</td><td>0</td><td>0</td><td>  0</td><td>0</td><td> 0</td><td>0</td></tr>\n",
       "\t<tr><th scope=row>A1BG</th><td>0</td><td>0</td><td>0</td><td>0</td><td>0</td><td>0</td><td>  0</td><td>0</td><td> 0</td><td>0</td></tr>\n",
       "\t<tr><th scope=row>A1BG-AS1</th><td>0</td><td>0</td><td>0</td><td>0</td><td>0</td><td>0</td><td>  0</td><td>0</td><td>34</td><td>0</td></tr>\n",
       "\t<tr><th scope=row>A1CF</th><td>0</td><td>0</td><td>0</td><td>0</td><td>0</td><td>0</td><td>  0</td><td>1</td><td> 0</td><td>0</td></tr>\n",
       "\t<tr><th scope=row>A2M</th><td>0</td><td>0</td><td>1</td><td>0</td><td>0</td><td>0</td><td>254</td><td>0</td><td> 3</td><td>0</td></tr>\n",
       "\t<tr><th scope=row>A2M-AS1</th><td>0</td><td>0</td><td>0</td><td>0</td><td>0</td><td>0</td><td>  0</td><td>0</td><td> 0</td><td>0</td></tr>\n",
       "</tbody>\n",
       "</table>\n"
      ],
      "text/latex": [
       "A data.frame: 10 × 10\n",
       "\\begin{tabular}{r|llllllllll}\n",
       "  & SM-D9E6H\\_S81\\_E1-50 & SM-D9E6H\\_S82\\_E1-50 & SM-D9E6H\\_S83\\_E1-50 & SM-D9E6H\\_S84\\_E1-50 & SM-D9E6H\\_S85\\_E1-50 & SM-D9E6H\\_S86\\_E1-50 & SM-D9E6H\\_S87\\_E1-50 & SM-D9E6H\\_S88\\_E1-50 & SM-D9E6H\\_S89\\_E1-50 & SM-D9E6H\\_S90\\_E1-50\\\\\n",
       "  & <int> & <int> & <int> & <int> & <int> & <int> & <int> & <int> & <int> & <int>\\\\\n",
       "\\hline\n",
       "\t3.8-1.2 & 0 & 0 & 0 & 0 & 0 & 0 &   0 & 0 &  0 & 0\\\\\n",
       "\t3.8-1.3 & 0 & 0 & 0 & 0 & 0 & 0 &   0 & 0 &  0 & 0\\\\\n",
       "\t3.8-1.4 & 0 & 0 & 0 & 0 & 0 & 0 &   0 & 0 &  0 & 0\\\\\n",
       "\t3.8-1.5 & 0 & 0 & 0 & 0 & 0 & 0 &   0 & 0 &  0 & 0\\\\\n",
       "\t5-HT3C2 & 0 & 0 & 0 & 0 & 0 & 0 &   0 & 0 &  0 & 0\\\\\n",
       "\tA1BG & 0 & 0 & 0 & 0 & 0 & 0 &   0 & 0 &  0 & 0\\\\\n",
       "\tA1BG-AS1 & 0 & 0 & 0 & 0 & 0 & 0 &   0 & 0 & 34 & 0\\\\\n",
       "\tA1CF & 0 & 0 & 0 & 0 & 0 & 0 &   0 & 1 &  0 & 0\\\\\n",
       "\tA2M & 0 & 0 & 1 & 0 & 0 & 0 & 254 & 0 &  3 & 0\\\\\n",
       "\tA2M-AS1 & 0 & 0 & 0 & 0 & 0 & 0 &   0 & 0 &  0 & 0\\\\\n",
       "\\end{tabular}\n"
      ],
      "text/markdown": [
       "\n",
       "A data.frame: 10 × 10\n",
       "\n",
       "| <!--/--> | SM-D9E6H_S81_E1-50 &lt;int&gt; | SM-D9E6H_S82_E1-50 &lt;int&gt; | SM-D9E6H_S83_E1-50 &lt;int&gt; | SM-D9E6H_S84_E1-50 &lt;int&gt; | SM-D9E6H_S85_E1-50 &lt;int&gt; | SM-D9E6H_S86_E1-50 &lt;int&gt; | SM-D9E6H_S87_E1-50 &lt;int&gt; | SM-D9E6H_S88_E1-50 &lt;int&gt; | SM-D9E6H_S89_E1-50 &lt;int&gt; | SM-D9E6H_S90_E1-50 &lt;int&gt; |\n",
       "|---|---|---|---|---|---|---|---|---|---|---|\n",
       "| 3.8-1.2 | 0 | 0 | 0 | 0 | 0 | 0 |   0 | 0 |  0 | 0 |\n",
       "| 3.8-1.3 | 0 | 0 | 0 | 0 | 0 | 0 |   0 | 0 |  0 | 0 |\n",
       "| 3.8-1.4 | 0 | 0 | 0 | 0 | 0 | 0 |   0 | 0 |  0 | 0 |\n",
       "| 3.8-1.5 | 0 | 0 | 0 | 0 | 0 | 0 |   0 | 0 |  0 | 0 |\n",
       "| 5-HT3C2 | 0 | 0 | 0 | 0 | 0 | 0 |   0 | 0 |  0 | 0 |\n",
       "| A1BG | 0 | 0 | 0 | 0 | 0 | 0 |   0 | 0 |  0 | 0 |\n",
       "| A1BG-AS1 | 0 | 0 | 0 | 0 | 0 | 0 |   0 | 0 | 34 | 0 |\n",
       "| A1CF | 0 | 0 | 0 | 0 | 0 | 0 |   0 | 1 |  0 | 0 |\n",
       "| A2M | 0 | 0 | 1 | 0 | 0 | 0 | 254 | 0 |  3 | 0 |\n",
       "| A2M-AS1 | 0 | 0 | 0 | 0 | 0 | 0 |   0 | 0 |  0 | 0 |\n",
       "\n"
      ],
      "text/plain": [
       "         SM-D9E6H_S81_E1-50 SM-D9E6H_S82_E1-50 SM-D9E6H_S83_E1-50\n",
       "3.8-1.2  0                  0                  0                 \n",
       "3.8-1.3  0                  0                  0                 \n",
       "3.8-1.4  0                  0                  0                 \n",
       "3.8-1.5  0                  0                  0                 \n",
       "5-HT3C2  0                  0                  0                 \n",
       "A1BG     0                  0                  0                 \n",
       "A1BG-AS1 0                  0                  0                 \n",
       "A1CF     0                  0                  0                 \n",
       "A2M      0                  0                  1                 \n",
       "A2M-AS1  0                  0                  0                 \n",
       "         SM-D9E6H_S84_E1-50 SM-D9E6H_S85_E1-50 SM-D9E6H_S86_E1-50\n",
       "3.8-1.2  0                  0                  0                 \n",
       "3.8-1.3  0                  0                  0                 \n",
       "3.8-1.4  0                  0                  0                 \n",
       "3.8-1.5  0                  0                  0                 \n",
       "5-HT3C2  0                  0                  0                 \n",
       "A1BG     0                  0                  0                 \n",
       "A1BG-AS1 0                  0                  0                 \n",
       "A1CF     0                  0                  0                 \n",
       "A2M      0                  0                  0                 \n",
       "A2M-AS1  0                  0                  0                 \n",
       "         SM-D9E6H_S87_E1-50 SM-D9E6H_S88_E1-50 SM-D9E6H_S89_E1-50\n",
       "3.8-1.2    0                0                   0                \n",
       "3.8-1.3    0                0                   0                \n",
       "3.8-1.4    0                0                   0                \n",
       "3.8-1.5    0                0                   0                \n",
       "5-HT3C2    0                0                   0                \n",
       "A1BG       0                0                   0                \n",
       "A1BG-AS1   0                0                  34                \n",
       "A1CF       0                1                   0                \n",
       "A2M      254                0                   3                \n",
       "A2M-AS1    0                0                   0                \n",
       "         SM-D9E6H_S90_E1-50\n",
       "3.8-1.2  0                 \n",
       "3.8-1.3  0                 \n",
       "3.8-1.4  0                 \n",
       "3.8-1.5  0                 \n",
       "5-HT3C2  0                 \n",
       "A1BG     0                 \n",
       "A1BG-AS1 0                 \n",
       "A1CF     0                 \n",
       "A2M      0                 \n",
       "A2M-AS1  0                 "
      ]
     },
     "metadata": {},
     "output_type": "display_data"
    }
   ],
   "source": [
    "mat <- exon + intron\n",
    "mat[1:10, 1:10]"
   ]
  },
  {
   "cell_type": "code",
   "execution_count": 6,
   "metadata": {},
   "outputs": [],
   "source": [
    "write.table(mat, file = \"brain_V1_AllenBrainAtlas_expression.tsv\", sep = \"\\t\", quote = FALSE, row.names = FALSE)"
   ]
  }
 ],
 "metadata": {
  "kernelspec": {
   "display_name": "R",
   "language": "R",
   "name": "ir"
  },
  "language_info": {
   "codemirror_mode": "r",
   "file_extension": ".r",
   "mimetype": "text/x-r-source",
   "name": "R",
   "pygments_lexer": "r",
   "version": "3.6.0"
  }
 },
 "nbformat": 4,
 "nbformat_minor": 2
}
