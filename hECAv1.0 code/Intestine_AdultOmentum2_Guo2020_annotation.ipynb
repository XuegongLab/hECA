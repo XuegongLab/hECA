{
 "cells": [
  {
   "cell_type": "code",
   "execution_count": null,
   "metadata": {},
   "outputs": [],
   "source": [
    "library(Seurat)"
   ]
  },
  {
   "cell_type": "code",
   "execution_count": 52,
   "metadata": {},
   "outputs": [],
   "source": [
    "name = 'Intestine_AdultOmentum2_Guo2020'\n",
    "path <- paste0(\"/stor/public/hcad/db_v1/\",name,\"/\",name,\".seuratobj.dbupload_v1.rds\")\n",
    "dataobj <- readRDS(path)"
   ]
  },
  {
   "cell_type": "code",
   "execution_count": 53,
   "metadata": {},
   "outputs": [
    {
     "data": {
      "text/html": [
       "<style>\n",
       ".list-inline {list-style: none; margin:0; padding: 0}\n",
       ".list-inline>li {display: inline-block}\n",
       ".list-inline>li:not(:last-child)::after {content: \"\\00b7\"; padding: 0 .5ex}\n",
       "</style>\n",
       "<ol class=list-inline><li>'Intestine-Connective tissue-B cell-IGKC'</li><li>'Intestine-Connective tissue-Macrophage/Neutrophil-FCGR3A/S100A8'</li><li>'Intestine-Connective tissue-T cell-NKG7'</li><li>'Intestine-Epithelial tissue-Mesothelial cell-KRT18'</li><li>'Intestine-Connective tissue-Macrophage-CD163'</li><li>'Intestine-Connective tissue-Stromal cell-LUM'</li><li>'Intestine-Connective tissue-Stromal cell-FGF7'</li><li>'Intestine-Connective tissue-Mast cell-CPA3'</li></ol>\n"
      ],
      "text/latex": [
       "\\begin{enumerate*}\n",
       "\\item 'Intestine-Connective tissue-B cell-IGKC'\n",
       "\\item 'Intestine-Connective tissue-Macrophage/Neutrophil-FCGR3A/S100A8'\n",
       "\\item 'Intestine-Connective tissue-T cell-NKG7'\n",
       "\\item 'Intestine-Epithelial tissue-Mesothelial cell-KRT18'\n",
       "\\item 'Intestine-Connective tissue-Macrophage-CD163'\n",
       "\\item 'Intestine-Connective tissue-Stromal cell-LUM'\n",
       "\\item 'Intestine-Connective tissue-Stromal cell-FGF7'\n",
       "\\item 'Intestine-Connective tissue-Mast cell-CPA3'\n",
       "\\end{enumerate*}\n"
      ],
      "text/markdown": [
       "1. 'Intestine-Connective tissue-B cell-IGKC'\n",
       "2. 'Intestine-Connective tissue-Macrophage/Neutrophil-FCGR3A/S100A8'\n",
       "3. 'Intestine-Connective tissue-T cell-NKG7'\n",
       "4. 'Intestine-Epithelial tissue-Mesothelial cell-KRT18'\n",
       "5. 'Intestine-Connective tissue-Macrophage-CD163'\n",
       "6. 'Intestine-Connective tissue-Stromal cell-LUM'\n",
       "7. 'Intestine-Connective tissue-Stromal cell-FGF7'\n",
       "8. 'Intestine-Connective tissue-Mast cell-CPA3'\n",
       "\n",
       "\n"
      ],
      "text/plain": [
       "[1] \"Intestine-Connective tissue-B cell-IGKC\"                        \n",
       "[2] \"Intestine-Connective tissue-Macrophage/Neutrophil-FCGR3A/S100A8\"\n",
       "[3] \"Intestine-Connective tissue-T cell-NKG7\"                        \n",
       "[4] \"Intestine-Epithelial tissue-Mesothelial cell-KRT18\"             \n",
       "[5] \"Intestine-Connective tissue-Macrophage-CD163\"                   \n",
       "[6] \"Intestine-Connective tissue-Stromal cell-LUM\"                   \n",
       "[7] \"Intestine-Connective tissue-Stromal cell-FGF7\"                  \n",
       "[8] \"Intestine-Connective tissue-Mast cell-CPA3\"                     "
      ]
     },
     "metadata": {},
     "output_type": "display_data"
    }
   ],
   "source": [
    "unique(dataobj$hcad_name)"
   ]
  },
  {
   "cell_type": "code",
   "execution_count": 54,
   "metadata": {},
   "outputs": [],
   "source": [
    "dataobj$hcad_name<- sub(\"Intestine-Connective tissue-Mast cell-CPA3\",\"Intestine-Connective tissue-Mast cell-CPA4 \",dataobj$hcad_name)"
   ]
  },
  {
   "cell_type": "code",
   "execution_count": 55,
   "metadata": {},
   "outputs": [],
   "source": [
    "dataobj@meta.data$tissue_type <- lapply(dataobj@meta.data$hcad_name,function(x) split(x,1))\n",
    "dataobj@meta.data$cell_type <- lapply(dataobj@meta.data$hcad_name,function(x) split(x,2))\n",
    "dataobj@meta.data$marker_gene <- lapply(dataobj@meta.data$hcad_name,function(x) split(x,3))\n",
    "dataobj@meta.data$tissue_type <- as.character(dataobj@meta.data$tissue_type)\n",
    "dataobj@meta.data$cell_type <- as.character(dataobj@meta.data$cell_type)\n",
    "dataobj@meta.data$marker_gene <- as.character(dataobj@meta.data$marker_gene)"
   ]
  },
  {
   "cell_type": "code",
   "execution_count": 56,
   "metadata": {},
   "outputs": [
    {
     "data": {
      "text/html": [
       "<style>\n",
       ".list-inline {list-style: none; margin:0; padding: 0}\n",
       ".list-inline>li {display: inline-block}\n",
       ".list-inline>li:not(:last-child)::after {content: \"\\00b7\"; padding: 0 .5ex}\n",
       "</style>\n",
       "<ol class=list-inline><li>'Intestine-Connective tissue-B cell-IGKC'</li><li>'Intestine-Connective tissue-Macrophage/Neutrophil-FCGR3A/S100A8'</li><li>'Intestine-Connective tissue-T cell-NKG7'</li><li>'Intestine-Epithelial tissue-Mesothelial cell-KRT18'</li><li>'Intestine-Connective tissue-Macrophage-CD163'</li><li>'Intestine-Connective tissue-Stromal cell-LUM'</li><li>'Intestine-Connective tissue-Stromal cell-FGF7'</li><li>'Intestine-Connective tissue-Mast cell-CPA4 '</li></ol>\n"
      ],
      "text/latex": [
       "\\begin{enumerate*}\n",
       "\\item 'Intestine-Connective tissue-B cell-IGKC'\n",
       "\\item 'Intestine-Connective tissue-Macrophage/Neutrophil-FCGR3A/S100A8'\n",
       "\\item 'Intestine-Connective tissue-T cell-NKG7'\n",
       "\\item 'Intestine-Epithelial tissue-Mesothelial cell-KRT18'\n",
       "\\item 'Intestine-Connective tissue-Macrophage-CD163'\n",
       "\\item 'Intestine-Connective tissue-Stromal cell-LUM'\n",
       "\\item 'Intestine-Connective tissue-Stromal cell-FGF7'\n",
       "\\item 'Intestine-Connective tissue-Mast cell-CPA4 '\n",
       "\\end{enumerate*}\n"
      ],
      "text/markdown": [
       "1. 'Intestine-Connective tissue-B cell-IGKC'\n",
       "2. 'Intestine-Connective tissue-Macrophage/Neutrophil-FCGR3A/S100A8'\n",
       "3. 'Intestine-Connective tissue-T cell-NKG7'\n",
       "4. 'Intestine-Epithelial tissue-Mesothelial cell-KRT18'\n",
       "5. 'Intestine-Connective tissue-Macrophage-CD163'\n",
       "6. 'Intestine-Connective tissue-Stromal cell-LUM'\n",
       "7. 'Intestine-Connective tissue-Stromal cell-FGF7'\n",
       "8. 'Intestine-Connective tissue-Mast cell-CPA4 '\n",
       "\n",
       "\n"
      ],
      "text/plain": [
       "[1] \"Intestine-Connective tissue-B cell-IGKC\"                        \n",
       "[2] \"Intestine-Connective tissue-Macrophage/Neutrophil-FCGR3A/S100A8\"\n",
       "[3] \"Intestine-Connective tissue-T cell-NKG7\"                        \n",
       "[4] \"Intestine-Epithelial tissue-Mesothelial cell-KRT18\"             \n",
       "[5] \"Intestine-Connective tissue-Macrophage-CD163\"                   \n",
       "[6] \"Intestine-Connective tissue-Stromal cell-LUM\"                   \n",
       "[7] \"Intestine-Connective tissue-Stromal cell-FGF7\"                  \n",
       "[8] \"Intestine-Connective tissue-Mast cell-CPA4 \"                    "
      ]
     },
     "metadata": {},
     "output_type": "display_data"
    }
   ],
   "source": [
    "unique(dataobj$hcad_name)"
   ]
  },
  {
   "cell_type": "code",
   "execution_count": 57,
   "metadata": {},
   "outputs": [
    {
     "data": {
      "text/html": [
       "<style>\n",
       ".list-inline {list-style: none; margin:0; padding: 0}\n",
       ".list-inline>li {display: inline-block}\n",
       ".list-inline>li:not(:last-child)::after {content: \"\\00b7\"; padding: 0 .5ex}\n",
       "</style>\n",
       "<ol class=list-inline><li>'IGKC'</li><li>'FCGR3A/S100A8'</li><li>'NKG7'</li><li>'KRT18'</li><li>'CD163'</li><li>'LUM'</li><li>'FGF7'</li><li>'CPA4 '</li></ol>\n"
      ],
      "text/latex": [
       "\\begin{enumerate*}\n",
       "\\item 'IGKC'\n",
       "\\item 'FCGR3A/S100A8'\n",
       "\\item 'NKG7'\n",
       "\\item 'KRT18'\n",
       "\\item 'CD163'\n",
       "\\item 'LUM'\n",
       "\\item 'FGF7'\n",
       "\\item 'CPA4 '\n",
       "\\end{enumerate*}\n"
      ],
      "text/markdown": [
       "1. 'IGKC'\n",
       "2. 'FCGR3A/S100A8'\n",
       "3. 'NKG7'\n",
       "4. 'KRT18'\n",
       "5. 'CD163'\n",
       "6. 'LUM'\n",
       "7. 'FGF7'\n",
       "8. 'CPA4 '\n",
       "\n",
       "\n"
      ],
      "text/plain": [
       "[1] \"IGKC\"          \"FCGR3A/S100A8\" \"NKG7\"          \"KRT18\"        \n",
       "[5] \"CD163\"         \"LUM\"           \"FGF7\"          \"CPA4 \"        "
      ]
     },
     "metadata": {},
     "output_type": "display_data"
    }
   ],
   "source": [
    "unique(dataobj$marker_gene)"
   ]
  },
  {
   "cell_type": "code",
   "execution_count": 58,
   "metadata": {},
   "outputs": [],
   "source": [
    "dir.create(paste0(\"/stor/public/hcad/db_v1.1/\",name,\"/\"))\n",
    "saveRDS(dataobj, file = paste0(\"/stor/public/hcad/db_v1.1/\",name,\"/\",name,\".seuratobj.dbupload_v1.1.rds\"))"
   ]
  },
  {
   "cell_type": "code",
   "execution_count": null,
   "metadata": {},
   "outputs": [],
   "source": [
    "dataset_name = 'Intestine_AdultOmentum2_Guo2020'\n",
    "path =  paste0(path11,dataset_name,\"/\",dataset_name,\".seuratobj.dbupload_v1.rds\")\n",
    "dataobj = readRDS(path)\n",
    "dataobj$hcad_name<- sub(\"Intestine-Connective tissue-Mast cell-CPA4 \",\"Intestine-Connective tissue-Mast cell-CPA4\",dataobj$hcad_name)\n",
    "\n",
    "    ori_name <- c(\"1-Feb\", \"2-Feb\", \"4-Feb\", \"5-Feb\", \"6-Feb\", \"7-Feb\")\n",
    "    true_name <- c(\"FEB1\", \"FEB2\", \"FEB4\", \"FEB5\", \"FEB6\", \"FEB7\")\n",
    "for(i in c(1:length(ori_name))){\n",
    "  rownames(dataobj@assays$RNA@counts)[rownames(dataobj@assays$RNA@counts)==ori_name[i]]<-true_name[i]\n",
    "  rownames(dataobj@assays$RNA@data)[rownames(dataobj@assays$RNA@data)==ori_name[i]]<-true_name[i]\n",
    "  rownames(dataobj@assays$RNA@scale.data)[rownames(dataobj@assays$RNA@scale.data)==ori_name[i]]<-true_name[i]\n",
    "  rownames(dataobj@assays$RNA@meta.features)[rownames(dataobj@assays$RNA@meta.features)==ori_name[i]]<-true_name[i]\n",
    "}\n",
    "\n",
    "dataobj@meta.data$tissue_type <- lapply(dataobj@meta.data$hcad_name,function(x) split(x,1))\n",
    "dataobj@meta.data$cell_type <- lapply(dataobj@meta.data$hcad_name,function(x) split(x,2))\n",
    "dataobj@meta.data$marker_gene <- lapply(dataobj@meta.data$hcad_name,function(x) split(x,3))\n",
    "dataobj@meta.data$tissue_type <- as.character(dataobj@meta.data$tissue_type)\n",
    "dataobj@meta.data$cell_type <- as.character(dataobj@meta.data$cell_type)\n",
    "dataobj@meta.data$marker_gene <- as.character(dataobj@meta.data$marker_gene)\n",
    "message('cell number:',ncol(dataobj),'\\t cid range:',min(dataobj$cid),'-',max(dataobj$cid),'\\t dataset:',dataset_name)\n",
    "stopifnot(unique(dataobj$organ)!=unique(dataobj$region))\n",
    "stopifnot(unique(dataobj$donor_gender) %in% c('Male','Female','NA'))\n",
    "saveRDS(dataobj,path)"
   ]
  }
 ],
 "metadata": {
  "kernelspec": {
   "display_name": "pyr2",
   "language": "python",
   "name": "pyr2"
  },
  "language_info": {
   "codemirror_mode": {
    "name": "ipython",
    "version": 3
   },
   "file_extension": ".py",
   "mimetype": "text/x-python",
   "name": "python",
   "nbconvert_exporter": "python",
   "pygments_lexer": "ipython3",
   "version": "3.7.4"
  }
 },
 "nbformat": 4,
 "nbformat_minor": 4
}
