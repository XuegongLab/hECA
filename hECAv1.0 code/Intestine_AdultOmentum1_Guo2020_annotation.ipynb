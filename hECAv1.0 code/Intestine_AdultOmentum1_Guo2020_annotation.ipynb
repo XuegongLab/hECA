{
 "cells": [
  {
   "cell_type": "code",
   "execution_count": null,
   "metadata": {},
   "outputs": [],
   "source": [
    "library(Seurat)\n",
    "name = 'Intestine_AdultOmentum1_Guo2020'\n",
    "path <- paste0(\"/stor/public/hcad/db_v1/\",name,\"/\",name,\".seuratobj.dbupload_v1.rds\")\n",
    "dataobj <- readRDS(path)\n",
    "dataobj$hcad_name<- sub(\"Intestine-Epithelial tissue-Mesothelial cell-KRT18\",\"Intestine-Epithelial tissue-Mesothelial cell-KRT18 KRT8\",dataobj$hcad_name)\n",
    "dataobj$hcad_name<- sub(\"Intestine-Epithelial tissue-Mesothelial cell-KRT8\",\"Intestine-Epithelial tissue-Mesothelial cell-KRT18 KRT8\",dataobj$hcad_name)\n",
    "dataobj@meta.data$tissue_type <- lapply(dataobj@meta.data$hcad_name,function(x) split(x,1))\n",
    "dataobj@meta.data$cell_type <- lapply(dataobj@meta.data$hcad_name,function(x) split(x,2))\n",
    "dataobj@meta.data$marker_gene <- lapply(dataobj@meta.data$hcad_name,function(x) split(x,3))\n",
    "dataobj@meta.data$tissue_type <- as.character(dataobj@meta.data$tissue_type)\n",
    "dataobj@meta.data$cell_type <- as.character(dataobj@meta.data$cell_type)\n",
    "dataobj@meta.data$marker_gene <- as.character(dataobj@meta.data$marker_gene)\n",
    "dir.create(paste0(\"/stor/public/hcad/db_v1.1/\",name,\"/\"))\n",
    "saveRDS(dataobj, file = paste0(\"/stor/public/hcad/db_v1.1/\",name,\"/\",name,\".seuratobj.dbupload_v1.1.rds\"))"
   ]
  }
 ],
 "metadata": {
  "kernelspec": {
   "display_name": "pyr2",
   "language": "python",
   "name": "pyr2"
  },
  "language_info": {
   "codemirror_mode": {
    "name": "ipython",
    "version": 3
   },
   "file_extension": ".py",
   "mimetype": "text/x-python",
   "name": "python",
   "nbconvert_exporter": "python",
   "pygments_lexer": "ipython3",
   "version": "3.7.4"
  }
 },
 "nbformat": 4,
 "nbformat_minor": 4
}
