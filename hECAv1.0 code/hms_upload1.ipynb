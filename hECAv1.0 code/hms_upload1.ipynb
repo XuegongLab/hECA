{
 "cells": [
  {
   "cell_type": "code",
   "execution_count": 1,
   "metadata": {},
   "outputs": [],
   "source": [
    "library(Seurat)"
   ]
  },
  {
   "cell_type": "markdown",
   "metadata": {},
   "source": [
    "# load a dataobj"
   ]
  },
  {
   "cell_type": "code",
   "execution_count": 7,
   "metadata": {},
   "outputs": [],
   "source": [
    "Intestine_list <-c('Colon_Transverse-Colon_HCLAdultTransverse-Colon2','Colon_Sigmoid-Colon_HCLAdultSigmoid-Colon1','Intestine_Intestine_HCLFetalIntestine1','Intestine_Intestine_HCLFetalIntestine2','Intestine_Intestine_HCLFetalIntestine3','Intestine_Intestine_HCLFetalIntestine4','Intestine_Intestine_HCLFetalIntestine5','Rectum_Rectum_HCLAdultRectum1',\"Intestine_AdultOmentum1_Guo2020\",\"Intestine_AdultOmentum2_Guo2020\",\"Intestine_AdultOmentum3_Guo2020\",'colon_colon_Kinchen2018','colon_colon_Parikh2019','intestine_intestine_Chen2019')\n",
    "SmallIntestine_list <-c('Duodenum_Duodenum_HCLAdultDuodenum1','Ileum_Ileum_HCLAdultIleum2','Jejunum_Jejunum_HCLAdultJejunum2')\n",
    "UrinaryOrgans_list<-c('Bladder_PartialTissue_HCLAdultBladder1','Bladder_PartialTissue_HCLAdultBladder2','Ureter_LowerUreter_HCLAdultUreter')\n",
    "Kidney_list = c('Kidney_AdjacentNormalTissue_HCLAdultKidney2','Kidney_PartialTissue_HCLAdultKidney3','Kidney_LeftKidney_HCLAdultKidney4','Kidney_Kidney_HCLFetalKidney3','Kidney_Kidney_HCLFetalKidney4','Kidney_Kidney_HCLFetalKidney5','Kidney_Kidney_HCLFetalKidney6')\n",
    "stomach_list = c('stomach_stomach_HCLAdultStomach1','stomach_stomach_HCLAdultStomach2','stomach_stomach_HCLAdultStomach3',\"stomach_stomach_HCLFetalStomach1\",'stomach_stomach_HCLFetalStomach2')\n",
    "adipose_list = c('Adipose_Adipose_HCLAdultAdipose1')\n",
    "muscle_list = c('Muscle_Muscle_HCLAdultMuscle1','Muscle_Muscle_HCLFetalMuscle1')\n",
    "rib_list = c('Rib_Rib_HCLFetalRib2','Rib_Rib_HCLFetalRib3')\n",
    "oes_list = c('oesophagus_oesophagus_Madissoon2019')"
   ]
  },
  {
   "cell_type": "code",
   "execution_count": 8,
   "metadata": {},
   "outputs": [
    {
     "name": "stderr",
     "output_type": "stream",
     "text": [
      "Colon_Transverse-Colon_HCLAdultTransverse-Colon2\n",
      "\n",
      "Colon_Sigmoid-Colon_HCLAdultSigmoid-Colon1\n",
      "\n",
      "Intestine_Intestine_HCLFetalIntestine1\n",
      "\n",
      "Intestine_Intestine_HCLFetalIntestine2\n",
      "\n",
      "Intestine_Intestine_HCLFetalIntestine3\n",
      "\n",
      "Intestine_Intestine_HCLFetalIntestine4\n",
      "\n",
      "Intestine_Intestine_HCLFetalIntestine5\n",
      "\n",
      "Rectum_Rectum_HCLAdultRectum1\n",
      "\n",
      "Intestine_AdultOmentum1_Guo2020\n",
      "\n",
      "Intestine_AdultOmentum2_Guo2020\n",
      "\n",
      "Intestine_AdultOmentum3_Guo2020\n",
      "\n",
      "colon_colon_Kinchen2018\n",
      "\n",
      "colon_colon_Parikh2019\n",
      "\n",
      "intestine_intestine_Chen2019\n",
      "\n",
      "Duodenum_Duodenum_HCLAdultDuodenum1\n",
      "\n",
      "Ileum_Ileum_HCLAdultIleum2\n",
      "\n",
      "Jejunum_Jejunum_HCLAdultJejunum2\n",
      "\n",
      "stomach_stomach_HCLAdultStomach1\n",
      "\n",
      "stomach_stomach_HCLAdultStomach2\n",
      "\n",
      "stomach_stomach_HCLAdultStomach3\n",
      "\n",
      "stomach_stomach_HCLFetalStomach1\n",
      "\n",
      "stomach_stomach_HCLFetalStomach2\n",
      "\n",
      "Adipose_Adipose_HCLAdultAdipose1\n",
      "\n",
      "Muscle_Muscle_HCLAdultMuscle1\n",
      "\n",
      "Muscle_Muscle_HCLFetalMuscle1\n",
      "\n",
      "Rib_Rib_HCLFetalRib2\n",
      "\n",
      "Rib_Rib_HCLFetalRib3\n",
      "\n",
      "oesophagus_oesophagus_Madissoon2019\n",
      "\n"
     ]
    }
   ],
   "source": [
    "# input, data name like lung_lung_Braga2019\n",
    "data_name_list = c(Intestine_list,SmallIntestine_list,stomach_list,adipose_list,muscle_list,rib_list,oes_list)\n",
    "\n",
    "path11 <- \"/stor/public/hcad/db_v1/\"\n",
    "total = 0\n",
    "ucnum = 0\n",
    "for (dataset_name in data_name_list){\n",
    "    message(dataset_name)\n",
    "    dstRDS = paste0(path11,dataset_name,\"/\",dataset_name,\".seuratobj.dbupload_v1.rds\")\n",
    "    dataobj = readRDS(dstRDS)\n",
    "    columns_to_update <- c(\"cid\",\"hcad_name\",\"cl_name\",\"tissue_type\",\"cell_type\",\"marker_gene\")\n",
    "    df_update <- dataobj@meta.data[,columns_to_update]\n",
    "    svae_path <- paste0(dataset_name,\"_df_update.csv\")\n",
    "    write.csv(df_update,svae_path)\n",
    "}"
   ]
  }
 ],
 "metadata": {
  "kernelspec": {
   "display_name": "R 3.6",
   "language": "R",
   "name": "ir36"
  },
  "language_info": {
   "codemirror_mode": "r",
   "file_extension": ".r",
   "mimetype": "text/x-r-source",
   "name": "R",
   "pygments_lexer": "r",
   "version": "3.6.1"
  }
 },
 "nbformat": 4,
 "nbformat_minor": 4
}
