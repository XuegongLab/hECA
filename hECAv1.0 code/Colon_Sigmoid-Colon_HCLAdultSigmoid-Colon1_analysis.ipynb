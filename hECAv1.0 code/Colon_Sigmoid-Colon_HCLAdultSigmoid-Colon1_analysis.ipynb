{
 "cells": [
  {
   "cell_type": "code",
   "execution_count": null,
   "metadata": {},
   "outputs": [],
   "source": [
    "library(reticulate)\n",
    "use_condaenv(condaenv=\"pyr2\", conda=\"/data8t_0/hms/anaconda3/bin/conda\")\n",
    "# umap<-import('umap')"
   ]
  },
  {
   "cell_type": "code",
   "execution_count": null,
   "metadata": {},
   "outputs": [],
   "source": [
    "library(Seurat)\n",
    "library(data.table)\n",
    "library(ggplot2)\n",
    "library(flexclust)\n",
    "datasetName = \"Colon_Sigmoid-Colon_HCLAdultSigmoid-Colon1\"\n",
    "#datasetName value: organ_tissue_authorYear without space\n",
    "dataFormat = 'tsv'\n",
    "#dataFormat value: tsv (tab separated), 10X (sparse)\n",
    "\n",
    "setwd(\"/stor/public/hcad/db_v1/Colon_Sigmoid-Colon_HCLAdultSigmoid-Colon1/\")"
   ]
  },
  {
   "cell_type": "code",
   "execution_count": null,
   "metadata": {},
   "outputs": [],
   "source": [
    "# Load the organized dataset\n",
    "if(dataFormat == 'tsv'){\n",
    "    data.matrix <- read.table(paste0(datasetName,\"_expression.tsv\"),h = T,sep='\\t',row.names = 1)\n",
    "} else{\n",
    "   system(paste0(\"tar -zxvf \", datasetName, \"_expression.tar.gz\")) #Invoke the unix command\n",
    "   data.matrix <- Read10X(data.dir = paste0(datasetName,\"_expression\"))\n",
    "   # data.dir: Directory containing the matrix.mtx, genes.tsv (or features.tsv), and barcodes.tsv files provided by 10X.\n",
    "}\n",
    "# Load the metadata and annotation\n",
    "data.metadata <- read.table(file = paste0(datasetName,\"_metadata.tsv\"), h = T, sep = \"\\t\", row.names = 5)\n",
    "data.annotation <- read.table(file = paste0(datasetName,\"_annotation.tsv\"), h = T, sep = \"\\t\", row.names = 1)\n",
    "if (file.exists(paste0(datasetName,\"_annotation2.tsv\"))) {\n",
    "    data.annotation2 <- read.table(file = paste0(datasetName,\"_annotation2.tsv\"), h = T, sep = \"\\t\", row.names = 1)\n",
    "}"
   ]
  },
  {
   "cell_type": "code",
   "execution_count": null,
   "metadata": {},
   "outputs": [],
   "source": [
    "# Pre-processing\n",
    "min.cells = 10\n",
    "min.features = 100\n",
    "nFeature_RNA_range = c(100, 400)\n",
    "percent.mt.thre = 1\n",
    "# Modify the default value of these parameters according to original paper\n",
    "dataobj <- CreateSeuratObject(counts = data.matrix, project = datasetName, min.cells = min.cells, min.features = min.features, meta.data = data.metadata)\n",
    "dataobj <- AddMetaData(dataobj, metadata = data.annotation)\n",
    "\n",
    "if (file.exists(paste0(datasetName,\"_annotation2.tsv\"))) {\n",
    "    dataobj <- AddMetaData(dataobj, metadata = data.annotation2)\n",
    "}\n",
    "\n",
    "# QC\n",
    "dataobj[[\"percent.mt\"]] <- PercentageFeatureSet(dataobj, pattern = \"^[Mm][Tt]\")\n",
    "VlnPlot(object = dataobj, features= c(\"nCount_RNA\",\"nFeature_RNA\",\"percent.mt\"))"
   ]
  },
  {
   "cell_type": "code",
   "execution_count": null,
   "metadata": {},
   "outputs": [],
   "source": [
    "percent.mt.thre = 20\n",
    "sdataobj <- subset(dataobj, subset = nFeature_RNA > nFeature_RNA_range[1] & nFeature_RNA < nFeature_RNA_range[2] & percent.mt < percent.mt.thre)"
   ]
  },
  {
   "cell_type": "code",
   "execution_count": null,
   "metadata": {
    "scrolled": true
   },
   "outputs": [],
   "source": [
    "warnings('off')\n",
    "# Normalization\n",
    "# Two approaches\n",
    "# 1. run standard log normalization \n",
    "dataobj <- NormalizeData(dataobj, normalization.method = \"LogNormalize\", scale.factor = 10000)\n",
    "dataobj <- FindVariableFeatures(dataobj) # default feature number, nfeatures = 2000\n",
    "dataobj <- ScaleData(dataobj, features = VariableFeatures(dataobj))\n",
    "# 2. run sctransform \n",
    "dataobj <- SCTransform(dataobj, vars.to.regress = \"percent.mt\", do.correct.umi = TRUE, do.scale = TRUE, do.center = TRUE)"
   ]
  },
  {
   "cell_type": "code",
   "execution_count": null,
   "metadata": {},
   "outputs": [],
   "source": [
    "# Dimensional Reduction\n",
    "dataobj <- RunPCA(dataobj, features = VariableFeatures(object = dataobj),npcs=50)\n",
    "# Determine the ‘dimensionality’ of the dataset according to elbow plot\n",
    "# pdf(paste0(datasetName,\"seurat.elbowplot.pdf\"))\n",
    "ElbowPlot(dataobj,ndim=50) \n",
    "# dev.off"
   ]
  },
  {
   "cell_type": "code",
   "execution_count": null,
   "metadata": {},
   "outputs": [],
   "source": [
    "pcDim = 40 # set as 75 in this case \n",
    "\n",
    "# Cluster the cells\n",
    "dataobj <- FindNeighbors(dataobj, reduction = \"pca\", dims = 1:pcDim, nn.eps = 0.5)"
   ]
  },
  {
   "cell_type": "code",
   "execution_count": null,
   "metadata": {},
   "outputs": [],
   "source": [
    "dataobj <- FindClusters(dataobj, resolution = 1.2, n.start = 10)\n",
    "randIndex(dataobj$cell_cluster,dataobj$seurat_clusters)"
   ]
  },
  {
   "cell_type": "code",
   "execution_count": null,
   "metadata": {
    "scrolled": true
   },
   "outputs": [],
   "source": [
    "rr <- RunUMAP(dataobj,dims=1:pcDim)"
   ]
  },
  {
   "cell_type": "code",
   "execution_count": null,
   "metadata": {},
   "outputs": [],
   "source": [
    "p_umap=DimPlot(rr,label = TRUE, pt.size=1)\n",
    "ggsave(paste0(datasetName,\".seurat.umap.tiff\"), plot = p_umap, width = 8, height = 5)\n",
    "p_umap"
   ]
  },
  {
   "cell_type": "code",
   "execution_count": null,
   "metadata": {},
   "outputs": [],
   "source": [
    "p_umap2 <- DimPlot(rr, reduction = \"umap\", label = T, group.by = \"cell_cluster\", pt.size=1)+NoLegend()\n",
    "ggsave(paste0(datasetName,\".seurat.umap_orig.tiff\"), plot = p_umap2, width = 8, height = 5)\n",
    "p_umap2"
   ]
  },
  {
   "cell_type": "code",
   "execution_count": null,
   "metadata": {},
   "outputs": [],
   "source": [
    "data.frame(table(dataobj.dbupload_v1$hcad_name))"
   ]
  },
  {
   "cell_type": "code",
   "execution_count": null,
   "metadata": {},
   "outputs": [],
   "source": [
    "new.cluster.ids <- c(\"Colon-Epithelial tissue-Enterocyte-RN7SK\", \n",
    "                     \"Colon-Connective tissue-T cell-CD3D\", \n",
    "                     \"Colon-Epithelial tissue-Enterocyte-CA4\", \n",
    "                     \"Colon-Connective tissue-Stromal cell-FBLN1\",\n",
    "                     \"Colon-Epithelial tissue-Enterocyte progenitor-EPCAM\", \n",
    "                     \"Colon-Connective tissue-B cell-MZB1\", \n",
    "                     \"Colon-Connective tissue-Enterocyte-MT-CO3\", \n",
    "                     \"Unclassified\",\n",
    "                     \"Unclassified\",\n",
    "                     \"Colon-Connective tissue-Mast cell-CPA4\",\n",
    "                     'Colon-Connective tissue-Macrophage-C1QA',\n",
    "                     'Colon-Epithelial tissue-Goblet cell-MUC2',\n",
    "                    'Colon-Muscle tissue-Smooth muscle cell-ACTA2',\n",
    "                    \"Colon-Connective tissue-Stromal cell-CXCL14\")"
   ]
  },
  {
   "cell_type": "code",
   "execution_count": null,
   "metadata": {},
   "outputs": [],
   "source": [
    "subset(dataobj.markers,cluster=='13')"
   ]
  },
  {
   "cell_type": "code",
   "execution_count": null,
   "metadata": {},
   "outputs": [],
   "source": [
    "names(x = new.cluster.ids) <- levels(x = dataobj)\n",
    "annodataobj <- RenameIdents(object = dataobj, new.cluster.ids)"
   ]
  },
  {
   "cell_type": "code",
   "execution_count": null,
   "metadata": {
    "scrolled": true
   },
   "outputs": [],
   "source": [
    "rr2 <- RunUMAP(annodataobj,dims=1:pcDim)"
   ]
  },
  {
   "cell_type": "code",
   "execution_count": null,
   "metadata": {},
   "outputs": [],
   "source": [
    "p_umap4 <- UMAPPlot(rr2,label = T, pt.size=1,label.size=5)+NoLegend()\n",
    "# LabelClusters(plot = p_umap4, id = 'ident', color = 'white')\n",
    "ggsave(paste0(datasetName,\".seurat.umap_hcad.tiff\"), plot = p_umap4, width = 25, height = 15)\n",
    "p_umap4"
   ]
  },
  {
   "cell_type": "code",
   "execution_count": null,
   "metadata": {
    "scrolled": true
   },
   "outputs": [],
   "source": [
    "dataobj.markers <- FindAllMarkers(dataobj, only.pos = TRUE,)"
   ]
  },
  {
   "cell_type": "code",
   "execution_count": null,
   "metadata": {},
   "outputs": [],
   "source": [
    "write.table(dataobj.markers, file = paste0(datasetName,\".seurat.markers.txt\"), sep = \"\\t\", quote = F, row.names = F, col.names = T)\n",
    "# \n",
    "saveRDS(dataobj, file = paste0(datasetName,\".seuratobj.rds\"))"
   ]
  },
  {
   "cell_type": "code",
   "execution_count": null,
   "metadata": {},
   "outputs": [],
   "source": [
    "# Compare the seurat clusters with original clusters\n",
    "randIndex(dataobj$cell_cluster,dataobj$seurat_clusters)\n",
    "\n",
    "# Visulize the clustering result\n",
    "\n",
    "p_umap2 <- DimPlot(dataobj, reduction = \"umap\", label = TRUE, group.by = \"cell_cluster\", pt.size=1)\n",
    "ggsave(paste0(datasetName,\".seurat.umap_orig.tiff\"), plot = p_umap2, width = 8, height = 5)\n",
    "if (file.exists(paste0(datasetName,\"_annotation2.tsv\"))) {\n",
    "    p_umap3 <- DimPlot(dataobj, reduction = \"umap\", label = TRUE, group.by = \"cell_ontology_class\", pt.size=1)\n",
    "    ggsave(paste0(datasetName,\".seurat.umap_cb.tiff\"), plot = p_umap3, width = 8, height = 5)\n",
    "}\n",
    "\n",
    "# Finding cluster markers \n",
    "dataobj.markers <- FindAllMarkers(dataobj, only.pos = TRUE, min.pct = 0.25, logfc.threshold = 0.25)\n"
   ]
  },
  {
   "cell_type": "code",
   "execution_count": null,
   "metadata": {},
   "outputs": [],
   "source": [
    "dataobj <- readRDS(paste0(datasetName,\".seuratobj.rds\"))"
   ]
  },
  {
   "cell_type": "code",
   "execution_count": null,
   "metadata": {},
   "outputs": [],
   "source": [
    "dataobj<-AddMetaData(dataobj, metadata =as.character(annodataobj@active.ident),col.name='hcad.label') \n",
    "\n",
    "write.table(cbind(colnames(dataobj), dataobj$hcad.label), file = paste0(datasetName,\"_annotation.hcad.tsv\"), sep = \"\\t\", quote = F, row.names = F, col.names = c('cell_ID','cell_cluster'))\n",
    "\n",
    "saveRDS(dataobj, file = paste0(datasetName,\".seuratobj.rds\"))"
   ]
  },
  {
   "cell_type": "code",
   "execution_count": null,
   "metadata": {},
   "outputs": [],
   "source": [
    "saveRDS(dataobj.dbupload_v1, file = paste0(datasetName,\".seuratobj.dbupload_v1.rds\"))"
   ]
  },
  {
   "cell_type": "code",
   "execution_count": null,
   "metadata": {},
   "outputs": [],
   "source": [
    "dataobj.dbupload_v1 = readRDS(file = paste0(datasetName,\".seuratobj.dbupload_v1.rds\"))"
   ]
  },
  {
   "cell_type": "code",
   "execution_count": null,
   "metadata": {},
   "outputs": [],
   "source": []
  }
 ],
 "metadata": {
  "kernelspec": {
   "display_name": "R",
   "language": "R",
   "name": "ir"
  },
  "language_info": {
   "codemirror_mode": "r",
   "file_extension": ".r",
   "mimetype": "text/x-r-source",
   "name": "R",
   "pygments_lexer": "r",
   "version": "3.6.0"
  }
 },
 "nbformat": 4,
 "nbformat_minor": 4
}
