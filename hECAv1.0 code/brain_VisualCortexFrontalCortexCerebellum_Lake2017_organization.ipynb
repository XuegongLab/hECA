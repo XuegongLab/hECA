{
 "cells": [
  {
   "cell_type": "code",
   "execution_count": null,
   "metadata": {},
   "outputs": [],
   "source": [
    "library(dplyr)\n",
    "mat1 <- read.delim(\"/stor/public/hcad/brain_VisualCortexFrontalCortexCerebellum_Lake2017/GSE97930_VisualCortex_snDrop-seq_UMI_Count_Matrix_08-01-2017.tsv\")\n",
    "mat2 <- read.delim(\"/stor/public/hcad/brain_VisualCortexFrontalCortexCerebellum_Lake2017/GSE97930_FrontalCortex_snDrop-seq_UMI_Count_Matrix_08-01-2017.tsv\")\n",
    "mat3 <- read.delim(\"/stor/public/hcad/brain_VisualCortexFrontalCortexCerebellum_Lake2017/GSE97930_CerebellarHem_snDrop-seq_UMI_Count_Matrix_08-01-2017.tsv\")\n",
    "anno <- read.delim(\"/stor/public/hcad/brain_VisualCortexFrontalCortexCerebellum_Lake2017/brain_VisualCortexFrontalCortexCerebellum_Lake2017_annotation.tsv\")\n"
   ]
  },
  {
   "cell_type": "code",
   "execution_count": null,
   "metadata": {},
   "outputs": [],
   "source": [
    "anno_new <- anno\n",
    "for (i in 1:nrow(anno)) {\n",
    "  if (!(anno$cell_ID[i] %in% colnames(mat1)) & !(anno$cell_ID[i] %in% colnames(mat2)) & !(anno$cell_ID[i] %in% colnames(mat3))) {\n",
    "    anno_new <- anno_new[-i,]\n",
    "  }\n",
    "}"
   ]
  },
  {
   "cell_type": "code",
   "execution_count": null,
   "metadata": {},
   "outputs": [],
   "source": [
    "for (i in 1:nrow(anno_new)){\n",
    "    if (anno_new$cell_ID[i] %in% colnames(mat1)) anno_new$region[i] = \"visual cortex\"\n",
    "    else if(anno_new$cell_ID[i] %in% colnames(mat2)) anno_new$region[i] = \"frontal cortex\"\n",
    "        else anno_new$region[i] = \"cerebellum\"\n",
    "}"
   ]
  },
  {
   "cell_type": "code",
   "execution_count": null,
   "metadata": {},
   "outputs": [],
   "source": [
    "anno_new[1:10,]"
   ]
  },
  {
   "cell_type": "code",
   "execution_count": null,
   "metadata": {},
   "outputs": [],
   "source": [
    "dim(anno_new)\n",
    "anno_stor <- anno_new\n",
    "anno_stor <- anno_stor[, -3]"
   ]
  },
  {
   "cell_type": "code",
   "execution_count": null,
   "metadata": {},
   "outputs": [],
   "source": [
    "anno_stor[1:10,]\n",
    "write.table(anno_stor, file = \"/stor/public/hcad/brain_VisualCortexFrontalCortexCerebellum_Lake2017/brain_VisualCortexFrontalCortexCerebellum_Lake2017_annotation.tsv\", row.names = FALSE, sep = \"\\t\", quote = FALSE)"
   ]
  },
  {
   "cell_type": "code",
   "execution_count": null,
   "metadata": {},
   "outputs": [],
   "source": [
    "genes1 <- row.names(mat1)\n",
    "mat1 <- cbind(gene = genes1, mat1)\n",
    "genes2 <- row.names(mat2)\n",
    "mat2 <- cbind(gene = genes2, mat2)\n",
    "genes3 <- row.names(mat3)\n",
    "mat3 <- cbind(gene = genes3, mat3)"
   ]
  },
  {
   "cell_type": "code",
   "execution_count": null,
   "metadata": {},
   "outputs": [],
   "source": [
    "colnames(mat1)[1:3]"
   ]
  },
  {
   "cell_type": "code",
   "execution_count": null,
   "metadata": {},
   "outputs": [],
   "source": [
    "mat <- full_join(mat1, mat2, by = 'gene')"
   ]
  },
  {
   "cell_type": "code",
   "execution_count": null,
   "metadata": {},
   "outputs": [],
   "source": [
    "mat <- full_join(mat, mat3, by = 'gene')"
   ]
  },
  {
   "cell_type": "code",
   "execution_count": null,
   "metadata": {},
   "outputs": [],
   "source": [
    "colnames(mat)[1] <- \"cell_ID\""
   ]
  },
  {
   "cell_type": "code",
   "execution_count": null,
   "metadata": {},
   "outputs": [],
   "source": [
    "mat[1:5, 1:5]"
   ]
  },
  {
   "cell_type": "code",
   "execution_count": null,
   "metadata": {},
   "outputs": [],
   "source": [
    "write.table(mat, file = \"/stor/public/hcad/brain_VisualCortexFrontalCortexCerebellum_Lake2017/brain_VisualCortexFrontalCortexCerebellum_Lake2017_expression.tsv\", sep = \"\\t\", row.names = FALSE, quote = FALSE)"
   ]
  },
  {
   "cell_type": "code",
   "execution_count": null,
   "metadata": {},
   "outputs": [],
   "source": [
    "anno <- read.delim(\"/stor/public/hcad/brain_VisualCortexFrontalCortexCerebellum_Lake2017/brain_VisualCortexFrontalCortexCerebellum_Lake2017_annotation.tsv\")"
   ]
  },
  {
   "cell_type": "code",
   "execution_count": null,
   "metadata": {},
   "outputs": [],
   "source": [
    "dim(anno)"
   ]
  },
  {
   "cell_type": "code",
   "execution_count": null,
   "metadata": {},
   "outputs": [],
   "source": [
    "levels(anno_new$cell_ID)[1]"
   ]
  },
  {
   "cell_type": "code",
   "execution_count": null,
   "metadata": {},
   "outputs": [],
   "source": [
    "meta <- matrix(nrow = nrow(anno_new), ncol = 8)\n",
    "colnames(meta) <- c(\"organ\", \"region\", \"subregion\", \"sample_status\", \"cell_ID\", \"donor_ID\", \"donor_gender\", \"donor_age\")\n",
    "for (i in 1:nrow(meta)) {\n",
    "    for (j in 1:ncol(meta)){\n",
    "        if (j == 5) meta[i,j] = levels(anno_new$cell_ID)[i]\n",
    "        else if (j == 2) meta[i,j] = anno_new$region[i]\n",
    "        else if (j == 1) meta[i,j] = \"brain\"\n",
    "        else if (j == 4) meta[i,j] = \"normal\"\n",
    "        else meta[i,j] = \"NA\"\n",
    "    }\n",
    "}"
   ]
  },
  {
   "cell_type": "code",
   "execution_count": null,
   "metadata": {},
   "outputs": [],
   "source": [
    "meta <- read.delim(file = \"/stor/public/hcad/brain_VisualCortexFrontalCortexCerebellum_Lake2017/brain_VisualCortexFrontalCortexCerebellum_Lake2017_metadata.tsv\")"
   ]
  },
  {
   "cell_type": "code",
   "execution_count": null,
   "metadata": {},
   "outputs": [],
   "source": [
    "meta[1:5,]"
   ]
  },
  {
   "cell_type": "code",
   "execution_count": null,
   "metadata": {},
   "outputs": [],
   "source": [
    "write.table(meta, file = \"/stor/public/hcad/brain_VisualCortexFrontalCortexCerebellum_Lake2017/brain_VisualCortexFrontalCortexCerebellum_Lake2017_metadata.tsv\", row.names = FALSE,sep = \"\\t\", quote = FALSE)"
   ]
  },
  {
   "cell_type": "code",
   "execution_count": null,
   "metadata": {},
   "outputs": [],
   "source": [
    "anno <- read.delim(file = \"/stor/public/hcad/brain_VisualCortexFrontalCortexCerebellum_Lake2017/brain_VisualCortexFrontalCortexCerebellum_Lake2017_annotation.tsv\")"
   ]
  },
  {
   "cell_type": "code",
   "execution_count": null,
   "metadata": {},
   "outputs": [],
   "source": [
    "levels(anno$cell_cluster)"
   ]
  },
  {
   "cell_type": "code",
   "execution_count": null,
   "metadata": {},
   "outputs": [],
   "source": [
    "anno$cell_cluster <- gsub(\"Ast\", \"Astrocytes\", anno$cell_cluster)\n",
    "anno$cell_cluster <- gsub(\"Cer\", \"Cerebellar\", anno$cell_cluster)\n",
    "anno$cell_cluster <- gsub(\"End\", \"Endothelial cells\", anno$cell_cluster)\n",
    "anno$cell_cluster <- gsub(\"Gran\", \"Granule cells\", anno$cell_cluster)\n",
    "anno$cell_cluster <- gsub(\"Mic\", \"Microglia\", anno$cell_cluster)\n",
    "anno$cell_cluster <- gsub(\"Oli\", \"Oligodendrocytes\", anno$cell_cluster)\n",
    "anno$cell_cluster <- gsub(\"OPC\", \"OPCs\", anno$cell_cluster)\n",
    "anno$cell_cluster <- gsub(\"Per\", \"Pericytes\", anno$cell_cluster)\n",
    "anno$cell_cluster <- gsub(\"Astrocytes_Cerebellar\", \"Cerebellar astrocytes\", anno$cell_cluster)\n",
    "anno$cell_cluster <- gsub(\"OPCs_Cerebellar\", \"Cerebellar OPCs\", anno$cell_cluster)"
   ]
  },
  {
   "cell_type": "code",
   "execution_count": null,
   "metadata": {},
   "outputs": [],
   "source": [
    "anno[1:10, ]"
   ]
  },
  {
   "cell_type": "code",
   "execution_count": null,
   "metadata": {},
   "outputs": [],
   "source": [
    "write.table(anno, file = \"/stor/public/hcad/brain_VisualCortexFrontalCortexCerebellum_Lake2017/brain_VisualCortexFrontalCortexCerebellum_Lake2017_annotation.tsv\", row.names = FALSE, sep = \"\\t\", quote = FALSE)"
   ]
  },
  {
   "cell_type": "code",
   "execution_count": null,
   "metadata": {},
   "outputs": [],
   "source": [
    "marker <- read.delim(file = \"/stor/public/hcad/brain_VisualCortexFrontalCortexCerebellum_Lake2017/brain_VisualCortexFrontalCortexCerebellum_Lake2017_markergene.tsv\")"
   ]
  },
  {
   "cell_type": "code",
   "execution_count": null,
   "metadata": {},
   "outputs": [],
   "source": [
    "marker[1:10,]"
   ]
  },
  {
   "cell_type": "code",
   "execution_count": null,
   "metadata": {},
   "outputs": [],
   "source": [
    "marker$cell_cluster <- gsub(\"Ast\", \"Astrocytes\", marker$cell_cluster)\n",
    "marker$cell_cluster <- gsub(\"Cer\", \"Cerebellar\", marker$cell_cluster)\n",
    "marker$cell_cluster <- gsub(\"End\", \"Endothelial cells\", marker$cell_cluster)\n",
    "marker$cell_cluster <- gsub(\"Gran\", \"Granule cells\", marker$cell_cluster)\n",
    "marker$cell_cluster <- gsub(\"Mic\", \"Microglia\", marker$cell_cluster)\n",
    "marker$cell_cluster <- gsub(\"Oli\", \"Oligodendrocytes\", marker$cell_cluster)\n",
    "marker$cell_cluster <- gsub(\"OPC\", \"OPCs\", marker$cell_cluster)\n",
    "marker$cell_cluster <- gsub(\"Per\", \"Pericytes\", marker$cell_cluster)\n",
    "marker$cell_cluster <- gsub(\"Astrocytes_Cerebellar\", \"Cerebellar astrocytes\", marker$cell_cluster)\n",
    "marker$cell_cluster <- gsub(\"OPCs_Cerebellar\", \"Cerebellar OPCs\", marker$cell_cluster)"
   ]
  },
  {
   "cell_type": "code",
   "execution_count": null,
   "metadata": {
    "scrolled": true
   },
   "outputs": [],
   "source": [
    "marker[1:1000,]"
   ]
  },
  {
   "cell_type": "code",
   "execution_count": null,
   "metadata": {},
   "outputs": [],
   "source": [
    "write.table(marker, file = \"/stor/public/hcad/brain_VisualCortexFrontalCortexCerebellum_Lake2017/brain_VisualCortexFrontalCortexCerebellum_Lake2017_markergene.tsv\", row.names = FALSE, sep = \"\\t\", quote = FALSE)"
   ]
  }
 ],
 "metadata": {
  "kernelspec": {
   "display_name": "R",
   "language": "R",
   "name": "ir"
  },
  "language_info": {
   "codemirror_mode": "r",
   "file_extension": ".r",
   "mimetype": "text/x-r-source",
   "name": "R",
   "pygments_lexer": "r",
   "version": "3.6.1"
  }
 },
 "nbformat": 4,
 "nbformat_minor": 2
}
