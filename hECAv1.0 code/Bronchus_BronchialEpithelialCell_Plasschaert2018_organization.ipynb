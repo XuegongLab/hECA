{
 "cells": [
  {
   "cell_type": "code",
   "execution_count": 1,
   "metadata": {
    "collapsed": false,
    "jupyter": {
     "outputs_hidden": false
    },
    "scrolled": true
   },
   "outputs": [],
   "source": [
    "import pandas as pd\n",
    "import numpy as np\n",
    "import os"
   ]
  },
  {
   "cell_type": "code",
   "execution_count": 37,
   "metadata": {},
   "outputs": [],
   "source": [
    "df = pd.read_csv(\"GSE102580_filtered_normalized_counts_human.tsv\",'\\t',index_col =0)"
   ]
  },
  {
   "cell_type": "code",
   "execution_count": 54,
   "metadata": {},
   "outputs": [],
   "source": [
    "df_2 = pd.read_csv(\"GSE102580_meta_filtered_counts_human.tsv\",'\\t')"
   ]
  },
  {
   "cell_type": "code",
   "execution_count": 39,
   "metadata": {},
   "outputs": [],
   "source": [
    "df.columns = df_2['library']+'_'+ df_2['barcode']\n",
    "df = df.transpose()\n",
    "df = df.reset_index().rename_axis({\"index\":\"cell_ID\"},axis=1).set_index(\"cell_ID\")"
   ]
  },
  {
   "cell_type": "code",
   "execution_count": 53,
   "metadata": {},
   "outputs": [],
   "source": [
    "df.to_csv(\"/stor/public/hcad/Bronchus_BronchialEpithelialCell_Plasschaert2018/Bronchus_BronchialEpithelialCell_Plasschaert_expression.tsv\",'\\t')"
   ]
  },
  {
   "cell_type": "markdown",
   "metadata": {},
   "source": [
    "# meta"
   ]
  },
  {
   "cell_type": "code",
   "execution_count": 60,
   "metadata": {},
   "outputs": [],
   "source": [
    "colnames = ['organ','region','subregion','sample_status','cell_ID','donor_ID','donor_gender','donor_age']\n",
    "df_meta = pd.DataFrame(columns=colnames)\n",
    "df_meta['organ'] = \"Bronchus\"\n",
    "df_meta['cell_ID'] = df.index\n",
    "df_meta['region'] = \"Bronchial epithelial cell\"\n",
    "df_meta['subregion'] = \"NA\"\n",
    "df_meta['donor_ID'] = df_2['library']\n",
    "df_meta['donor_gender'] = \"NA\"\n",
    "df_meta['donor_age'] = \"NA\"\n",
    "df_meta['sample_status'] = \"normal\""
   ]
  },
  {
   "cell_type": "code",
   "execution_count": 65,
   "metadata": {},
   "outputs": [],
   "source": [
    "df_meta.to_csv(\"/stor/public/hcad/Bronchus_BronchialEpithelialCell_Plasschaert2018/Bronchus_BronchialEpithelialCell_Plasschaert_metadata.tsv\",'\\t',index=None)"
   ]
  },
  {
   "cell_type": "markdown",
   "metadata": {},
   "source": [
    "# annotation"
   ]
  },
  {
   "cell_type": "code",
   "execution_count": 67,
   "metadata": {},
   "outputs": [],
   "source": [
    "df_annotation = pd.DataFrame(columns=[\"cell_ID\",\"cell_cluster\"])"
   ]
  },
  {
   "cell_type": "code",
   "execution_count": 69,
   "metadata": {},
   "outputs": [],
   "source": [
    "df_annotation[\"cell_ID\"] = df.index\n",
    "df_annotation[\"cell_cluster\"] = df_2['clusters_Fig1']"
   ]
  },
  {
   "cell_type": "code",
   "execution_count": 71,
   "metadata": {},
   "outputs": [],
   "source": [
    "df_annotation.to_csv(\"/stor/public/hcad/Bronchus_BronchialEpithelialCell_Plasschaert2018/Bronchus_BronchialEpithelialCell_Plasschaert_annotation.tsv\",'\\t',index=None)"
   ]
  }
 ],
 "metadata": {
  "kernelspec": {
   "display_name": "Python 3",
   "language": "python",
   "name": "python3"
  },
  "language_info": {
   "codemirror_mode": {
    "name": "ipython",
    "version": 3
   },
   "file_extension": ".py",
   "mimetype": "text/x-python",
   "name": "python",
   "nbconvert_exporter": "python",
   "pygments_lexer": "ipython3",
   "version": "3.7.3"
  }
 },
 "nbformat": 4,
 "nbformat_minor": 4
}
