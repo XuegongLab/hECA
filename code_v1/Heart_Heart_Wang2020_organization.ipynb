{
 "cells": [
  {
   "cell_type": "code",
   "execution_count": 1,
   "metadata": {},
   "outputs": [],
   "source": [
    "import pandas as pd\n",
    "import numpy as np\n",
    "import os"
   ]
  },
  {
   "cell_type": "markdown",
   "metadata": {},
   "source": [
    "# load data"
   ]
  },
  {
   "cell_type": "code",
   "execution_count": 5,
   "metadata": {},
   "outputs": [],
   "source": [
    "df_data = pd.read_csv(\"FuWai/GSE109816_normal_heart_umi_matrix.csv\",',')"
   ]
  },
  {
   "cell_type": "code",
   "execution_count": 8,
   "metadata": {},
   "outputs": [],
   "source": [
    "df_cluster = pd.read_csv(\"FuWai/GSE109816_normal_heart_cell_cluster_info.txt\",'\\t')\n",
    "df_meta = pd.read_csv(\"FuWai/GSE109816_metadata_barcodes_9994cells.txt\",'\\t')\n",
    "df_cellinfo = pd.read_csv(\"FuWai/GSE109816_normal_heart_cell_info.txt\",'\\t')"
   ]
  },
  {
   "cell_type": "markdown",
   "metadata": {},
   "source": [
    "# standardize"
   ]
  },
  {
   "cell_type": "code",
   "execution_count": 14,
   "metadata": {},
   "outputs": [
    {
     "name": "stderr",
     "output_type": "stream",
     "text": [
      "/home/chenyx/anaconda3/lib/python3.7/site-packages/ipykernel_launcher.py:1: FutureWarning: Using 'rename_axis' to alter labels is deprecated. Use '.rename' instead\n",
      "  \"\"\"Entry point for launching an IPython kernel.\n"
     ]
    }
   ],
   "source": [
    "df_data = df_data.rename_axis({\"Unnamed: 0\":\"cell_ID\"},axis=1)\n",
    "df_data = df_data.set_index(\"cell_ID\")"
   ]
  },
  {
   "cell_type": "code",
   "execution_count": 20,
   "metadata": {},
   "outputs": [],
   "source": [
    "filepath = '/stor/public/hcad/Heart_Heart_Wang2020/Heart_Heart_Wang2020'"
   ]
  },
  {
   "cell_type": "code",
   "execution_count": 21,
   "metadata": {},
   "outputs": [],
   "source": [
    "df_data.to_csv(filepath + '_expression.tsv',sep='\\t',na_rep = 'NA')"
   ]
  },
  {
   "cell_type": "markdown",
   "metadata": {},
   "source": [
    "# metadata"
   ]
  },
  {
   "cell_type": "code",
   "execution_count": 22,
   "metadata": {},
   "outputs": [],
   "source": [
    "colnames = ['organ','region','subregion','sample_status','cell_ID','donor_ID','donor_gender','donor_age']\n",
    "meta = pd.DataFrame(columns=colnames)"
   ]
  },
  {
   "cell_type": "code",
   "execution_count": 27,
   "metadata": {},
   "outputs": [
    {
     "data": {
      "text/plain": [
       "array(['N_LA', 'N_LV'], dtype=object)"
      ]
     },
     "execution_count": 27,
     "metadata": {},
     "output_type": "execute_result"
    }
   ],
   "source": [
    "np.unique(df_meta['source name'])"
   ]
  },
  {
   "cell_type": "code",
   "execution_count": 28,
   "metadata": {},
   "outputs": [],
   "source": [
    "meta = pd.DataFrame(columns=colnames)\n",
    "meta['organ'] = \"Heart\"\n",
    "meta['cell_ID'] = df_meta['Sample name (9994 single cells)']\n",
    "meta['region'] = df_meta['source name']\n",
    "meta['subregion'] = \"NA\"\n",
    "meta['donor_ID'] = df_meta['characteristics: individual']\n",
    "meta['donor_gender'] = df_meta['characteristics: gender']\n",
    "meta['donor_age'] = df_meta['characteristics: age']\n",
    "meta['sample_status'] = 'normal'"
   ]
  },
  {
   "cell_type": "code",
   "execution_count": 39,
   "metadata": {},
   "outputs": [],
   "source": [
    "meta.to_csv(filepath + '_metadata.tsv',sep='\\t',na_rep = 'NA',index=False)"
   ]
  },
  {
   "cell_type": "markdown",
   "metadata": {},
   "source": [
    "# annotation"
   ]
  },
  {
   "cell_type": "code",
   "execution_count": 35,
   "metadata": {},
   "outputs": [],
   "source": [
    "df_anno = pd.DataFrame()"
   ]
  },
  {
   "cell_type": "code",
   "execution_count": 36,
   "metadata": {},
   "outputs": [],
   "source": [
    "df_anno['cell_ID']=df_cluster['ID']\n",
    "df_anno['cell_cluster']=df_cluster['Cluster_ID']"
   ]
  },
  {
   "cell_type": "code",
   "execution_count": 40,
   "metadata": {},
   "outputs": [],
   "source": [
    "df_anno.to_csv(filepath + '_annotation.tsv',sep='\\t',na_rep = 'NA',index=False)"
   ]
  }
 ],
 "metadata": {
  "kernelspec": {
   "display_name": "Python 3",
   "language": "python",
   "name": "python3"
  },
  "language_info": {
   "codemirror_mode": {
    "name": "ipython",
    "version": 3
   },
   "file_extension": ".py",
   "mimetype": "text/x-python",
   "name": "python",
   "nbconvert_exporter": "python",
   "pygments_lexer": "ipython3",
   "version": "3.7.3"
  }
 },
 "nbformat": 4,
 "nbformat_minor": 4
}
