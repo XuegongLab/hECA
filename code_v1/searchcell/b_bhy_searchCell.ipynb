{
 "cells": [
  {
   "cell_type": "code",
   "execution_count": 1,
   "metadata": {
    "execution": {
     "iopub.execute_input": "2021-06-20T08:46:50.197474Z",
     "iopub.status.busy": "2021-06-20T08:46:50.196762Z",
     "iopub.status.idle": "2021-06-20T08:46:50.521234Z",
     "shell.execute_reply": "2021-06-20T08:46:50.520310Z",
     "shell.execute_reply.started": "2021-06-20T08:46:50.197322Z"
    }
   },
   "outputs": [],
   "source": [
    "import sys\n",
    "import pandas as pd\n",
    "import ECAUGT as HCAd_Client\n",
    "import time\n",
    "import multiprocessing\n",
    "import numpy as np"
   ]
  },
  {
   "cell_type": "code",
   "execution_count": 5,
   "metadata": {
    "execution": {
     "iopub.execute_input": "2021-06-20T08:48:42.172603Z",
     "iopub.status.busy": "2021-06-20T08:48:42.171987Z",
     "iopub.status.idle": "2021-06-20T08:48:42.178639Z",
     "shell.execute_reply": "2021-06-20T08:48:42.177459Z",
     "shell.execute_reply.started": "2021-06-20T08:48:42.172549Z"
    }
   },
   "outputs": [],
   "source": [
    "# set parameters\n",
    "endpoint = \"https://HCAd-Datasets.cn-beijing.ots.aliyuncs.com\"\n",
    "access_id = \"LTAI4GCTcWFcg3Uwys7Dehnb\" #enter your id and keys\n",
    "access_key = \"qlobKBuYKaxkqMgTy6hIBwPgn0wuq5\"\n",
    "instance_name = \"HCAd-Datasets\"\n",
    "table_name = 'HCA_d'"
   ]
  },
  {
   "cell_type": "code",
   "execution_count": 6,
   "metadata": {
    "execution": {
     "iopub.execute_input": "2021-06-20T08:48:42.737349Z",
     "iopub.status.busy": "2021-06-20T08:48:42.736754Z",
     "iopub.status.idle": "2021-06-20T08:48:42.824637Z",
     "shell.execute_reply": "2021-06-20T08:48:42.824004Z",
     "shell.execute_reply.started": "2021-06-20T08:48:42.737299Z"
    }
   },
   "outputs": [
    {
     "name": "stdout",
     "output_type": "stream",
     "text": [
      "Connected to the server, find the table.\n",
      "HCA_d\n",
      "TableName: HCA_d\n",
      "PrimaryKey: [('cid', 'INTEGER')]\n",
      "Reserved read throughput: 0\n",
      "Reserved write throughput: 0\n",
      "Last increase throughput time: 1605795297\n",
      "Last decrease throughput time: None\n",
      "table options's time to live: -1\n",
      "table options's max version: 1\n",
      "table options's max_time_deviation: 86400\n"
     ]
    },
    {
     "data": {
      "text/plain": [
       "0"
      ]
     },
     "execution_count": 6,
     "metadata": {},
     "output_type": "execute_result"
    }
   ],
   "source": [
    "# # setup client\n",
    "HCAd_Client.Setup_Client(endpoint, access_id, access_key, instance_name, table_name)"
   ]
  },
  {
   "cell_type": "code",
   "execution_count": 7,
   "metadata": {
    "execution": {
     "iopub.execute_input": "2021-06-20T08:48:43.791972Z",
     "iopub.status.busy": "2021-06-20T08:48:43.791746Z",
     "iopub.status.idle": "2021-06-20T08:49:37.653831Z",
     "shell.execute_reply": "2021-06-20T08:49:37.652788Z",
     "shell.execute_reply.started": "2021-06-20T08:48:43.791953Z"
    }
   },
   "outputs": [
    {
     "name": "stdout",
     "output_type": "stream",
     "text": [
      "210597 cells found\n"
     ]
    }
   ],
   "source": [
    "condition = \"organ==Heart\"\n",
    "rows_to_get = HCAd_Client.query_cells(condition)"
   ]
  },
  {
   "cell_type": "code",
   "execution_count": 8,
   "metadata": {
    "execution": {
     "iopub.execute_input": "2021-06-20T08:49:45.359086Z",
     "iopub.status.busy": "2021-06-20T08:49:45.358499Z",
     "iopub.status.idle": "2021-06-20T08:50:57.562891Z",
     "shell.execute_reply": "2021-06-20T08:50:57.562022Z",
     "shell.execute_reply.started": "2021-06-20T08:49:45.359031Z"
    }
   },
   "outputs": [
    {
     "data": {
      "text/html": [
       "<div>\n",
       "<style scoped>\n",
       "    .dataframe tbody tr th:only-of-type {\n",
       "        vertical-align: middle;\n",
       "    }\n",
       "\n",
       "    .dataframe tbody tr th {\n",
       "        vertical-align: top;\n",
       "    }\n",
       "\n",
       "    .dataframe thead th {\n",
       "        text-align: right;\n",
       "    }\n",
       "</style>\n",
       "<table border=\"1\" class=\"dataframe\">\n",
       "  <thead>\n",
       "    <tr style=\"text-align: right;\">\n",
       "      <th></th>\n",
       "      <th>VCAM1</th>\n",
       "    </tr>\n",
       "    <tr>\n",
       "      <th>cid</th>\n",
       "      <th></th>\n",
       "    </tr>\n",
       "  </thead>\n",
       "  <tbody>\n",
       "    <tr>\n",
       "      <th>2162711</th>\n",
       "      <td>2.407986</td>\n",
       "    </tr>\n",
       "    <tr>\n",
       "      <th>2162717</th>\n",
       "      <td>1.937944</td>\n",
       "    </tr>\n",
       "    <tr>\n",
       "      <th>2162719</th>\n",
       "      <td>2.648144</td>\n",
       "    </tr>\n",
       "    <tr>\n",
       "      <th>2162722</th>\n",
       "      <td>4.098015</td>\n",
       "    </tr>\n",
       "    <tr>\n",
       "      <th>2162724</th>\n",
       "      <td>3.273536</td>\n",
       "    </tr>\n",
       "    <tr>\n",
       "      <th>...</th>\n",
       "      <td>...</td>\n",
       "    </tr>\n",
       "    <tr>\n",
       "      <th>2376741</th>\n",
       "      <td>3.753418</td>\n",
       "    </tr>\n",
       "    <tr>\n",
       "      <th>2376747</th>\n",
       "      <td>3.539359</td>\n",
       "    </tr>\n",
       "    <tr>\n",
       "      <th>2377776</th>\n",
       "      <td>3.197619</td>\n",
       "    </tr>\n",
       "    <tr>\n",
       "      <th>2377812</th>\n",
       "      <td>3.065720</td>\n",
       "    </tr>\n",
       "    <tr>\n",
       "      <th>2378147</th>\n",
       "      <td>3.132438</td>\n",
       "    </tr>\n",
       "  </tbody>\n",
       "</table>\n",
       "<p>2602 rows × 1 columns</p>\n",
       "</div>"
      ],
      "text/plain": [
       "            VCAM1\n",
       "cid              \n",
       "2162711  2.407986\n",
       "2162717  1.937944\n",
       "2162719  2.648144\n",
       "2162722  4.098015\n",
       "2162724  3.273536\n",
       "...           ...\n",
       "2376741  3.753418\n",
       "2376747  3.539359\n",
       "2377776  3.197619\n",
       "2377812  3.065720\n",
       "2378147  3.132438\n",
       "\n",
       "[2602 rows x 1 columns]"
      ]
     },
     "execution_count": 8,
     "metadata": {},
     "output_type": "execute_result"
    }
   ],
   "source": [
    "gene_condition = HCAd_Client.seq2filter(\"VCAM1 > 0.1\")\n",
    "HCAd_Client.get_columnsbycell_para(rows_to_get = rows_to_get, cols_to_get=['VCAM1'], col_filter=gene_condition, do_transfer = True, thread_num = multiprocessing.cpu_count()-1)"
   ]
  },
  {
   "cell_type": "code",
   "execution_count": 11,
   "metadata": {
    "execution": {
     "iopub.execute_input": "2021-06-20T09:04:35.773805Z",
     "iopub.status.busy": "2021-06-20T09:04:35.773195Z",
     "iopub.status.idle": "2021-06-20T09:05:07.237500Z",
     "shell.execute_reply": "2021-06-20T09:05:07.236655Z",
     "shell.execute_reply.started": "2021-06-20T09:04:35.773746Z"
    }
   },
   "outputs": [
    {
     "data": {
      "text/html": [
       "<div>\n",
       "<style scoped>\n",
       "    .dataframe tbody tr th:only-of-type {\n",
       "        vertical-align: middle;\n",
       "    }\n",
       "\n",
       "    .dataframe tbody tr th {\n",
       "        vertical-align: top;\n",
       "    }\n",
       "\n",
       "    .dataframe thead th {\n",
       "        text-align: right;\n",
       "    }\n",
       "</style>\n",
       "<table border=\"1\" class=\"dataframe\">\n",
       "  <thead>\n",
       "    <tr style=\"text-align: right;\">\n",
       "      <th></th>\n",
       "      <th>ACTA2</th>\n",
       "      <th>C1QA</th>\n",
       "      <th>VCAM1</th>\n",
       "    </tr>\n",
       "    <tr>\n",
       "      <th>cid</th>\n",
       "      <th></th>\n",
       "      <th></th>\n",
       "      <th></th>\n",
       "    </tr>\n",
       "  </thead>\n",
       "  <tbody>\n",
       "    <tr>\n",
       "      <th>2162752</th>\n",
       "      <td>1.506691</td>\n",
       "      <td>0.532013</td>\n",
       "      <td>2.882370</td>\n",
       "    </tr>\n",
       "    <tr>\n",
       "      <th>2162776</th>\n",
       "      <td>0.585398</td>\n",
       "      <td>0.334938</td>\n",
       "      <td>1.219980</td>\n",
       "    </tr>\n",
       "    <tr>\n",
       "      <th>2162836</th>\n",
       "      <td>1.412232</td>\n",
       "      <td>1.412232</td>\n",
       "      <td>1.412232</td>\n",
       "    </tr>\n",
       "    <tr>\n",
       "      <th>2162843</th>\n",
       "      <td>0.150505</td>\n",
       "      <td>0.281294</td>\n",
       "      <td>0.500584</td>\n",
       "    </tr>\n",
       "    <tr>\n",
       "      <th>2162880</th>\n",
       "      <td>0.320656</td>\n",
       "      <td>0.173126</td>\n",
       "      <td>3.241499</td>\n",
       "    </tr>\n",
       "    <tr>\n",
       "      <th>...</th>\n",
       "      <td>...</td>\n",
       "      <td>...</td>\n",
       "      <td>...</td>\n",
       "    </tr>\n",
       "    <tr>\n",
       "      <th>2182452</th>\n",
       "      <td>0.286790</td>\n",
       "      <td>0.105004</td>\n",
       "      <td>0.105004</td>\n",
       "    </tr>\n",
       "    <tr>\n",
       "      <th>2182456</th>\n",
       "      <td>0.320126</td>\n",
       "      <td>0.224370</td>\n",
       "      <td>0.224370</td>\n",
       "    </tr>\n",
       "    <tr>\n",
       "      <th>2182480</th>\n",
       "      <td>0.474678</td>\n",
       "      <td>0.474678</td>\n",
       "      <td>0.795249</td>\n",
       "    </tr>\n",
       "    <tr>\n",
       "      <th>2183950</th>\n",
       "      <td>0.418718</td>\n",
       "      <td>0.159852</td>\n",
       "      <td>0.418718</td>\n",
       "    </tr>\n",
       "    <tr>\n",
       "      <th>2361662</th>\n",
       "      <td>1.750481</td>\n",
       "      <td>1.750481</td>\n",
       "      <td>1.750481</td>\n",
       "    </tr>\n",
       "  </tbody>\n",
       "</table>\n",
       "<p>104 rows × 3 columns</p>\n",
       "</div>"
      ],
      "text/plain": [
       "            ACTA2      C1QA     VCAM1\n",
       "cid                                  \n",
       "2162752  1.506691  0.532013  2.882370\n",
       "2162776  0.585398  0.334938  1.219980\n",
       "2162836  1.412232  1.412232  1.412232\n",
       "2162843  0.150505  0.281294  0.500584\n",
       "2162880  0.320656  0.173126  3.241499\n",
       "...           ...       ...       ...\n",
       "2182452  0.286790  0.105004  0.105004\n",
       "2182456  0.320126  0.224370  0.224370\n",
       "2182480  0.474678  0.474678  0.795249\n",
       "2183950  0.418718  0.159852  0.418718\n",
       "2361662  1.750481  1.750481  1.750481\n",
       "\n",
       "[104 rows x 3 columns]"
      ]
     },
     "execution_count": 11,
     "metadata": {},
     "output_type": "execute_result"
    }
   ],
   "source": [
    "gene_condition = HCAd_Client.seq2filter(\"VCAM1 >= 0.1 && ACTA2>=0.1 && C1QA>=0.1\")\n",
    "HCAd_Client.get_columnsbycell_para(rows_to_get = rows_to_get, cols_to_get=['VCAM1','ACTA2','C1QA'], col_filter=gene_condition, do_transfer = True, thread_num = multiprocessing.cpu_count()-1)"
   ]
  },
  {
   "cell_type": "code",
   "execution_count": null,
   "metadata": {},
   "outputs": [],
   "source": []
  }
 ],
 "metadata": {
  "kernelspec": {
   "display_name": "R_3.6",
   "language": "python",
   "name": "r_3.6"
  },
  "language_info": {
   "codemirror_mode": {
    "name": "ipython",
    "version": 3
   },
   "file_extension": ".py",
   "mimetype": "text/x-python",
   "name": "python",
   "nbconvert_exporter": "python",
   "pygments_lexer": "ipython3",
   "version": "3.9.0"
  }
 },
 "nbformat": 4,
 "nbformat_minor": 4
}
