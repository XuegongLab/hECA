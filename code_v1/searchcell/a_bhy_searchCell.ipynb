{
 "cells": [
  {
   "cell_type": "code",
   "execution_count": 1,
   "id": "502b5079-7a16-40fc-af1e-b91c57b7eb69",
   "metadata": {
    "execution": {
     "iopub.execute_input": "2021-06-20T14:48:50.734363Z",
     "iopub.status.busy": "2021-06-20T14:48:50.728550Z",
     "iopub.status.idle": "2021-06-20T14:48:55.628617Z",
     "shell.execute_reply": "2021-06-20T14:48:55.627293Z"
    }
   },
   "outputs": [
    {
     "name": "stderr",
     "output_type": "stream",
     "text": [
      "Attaching SeuratObject\n",
      "\n",
      "\n",
      "Attaching package: ‘dplyr’\n",
      "\n",
      "\n",
      "The following objects are masked from ‘package:stats’:\n",
      "\n",
      "    filter, lag\n",
      "\n",
      "\n",
      "The following objects are masked from ‘package:base’:\n",
      "\n",
      "    intersect, setdiff, setequal, union\n",
      "\n",
      "\n"
     ]
    }
   ],
   "source": [
    "library(Seurat)\n",
    "library(dplyr)"
   ]
  },
  {
   "cell_type": "code",
   "execution_count": 2,
   "id": "999525f5-8d4b-4ad3-8b84-10d00df66294",
   "metadata": {
    "execution": {
     "iopub.execute_input": "2021-06-20T14:49:05.190025Z",
     "iopub.status.busy": "2021-06-20T14:49:05.165734Z",
     "iopub.status.idle": "2021-06-20T14:51:28.601380Z",
     "shell.execute_reply": "2021-06-20T14:51:28.600160Z"
    }
   },
   "outputs": [],
   "source": [
    "dataobj<-readRDS('hECA_dbv1.rds')"
   ]
  },
  {
   "cell_type": "code",
   "execution_count": 3,
   "id": "48db0eed-9475-4a5a-8987-e923097039e1",
   "metadata": {
    "execution": {
     "iopub.execute_input": "2021-06-20T14:51:28.607885Z",
     "iopub.status.busy": "2021-06-20T14:51:28.605491Z",
     "iopub.status.idle": "2021-06-20T14:51:28.713427Z",
     "shell.execute_reply": "2021-06-20T14:51:28.712446Z"
    },
    "tags": []
   },
   "outputs": [
    {
     "data": {
      "text/plain": [
       "\n",
       "      Adipose Adrenal gland       Bladder         Blood   Bone marrow \n",
       "         1362         15065          3980         29514          8671 \n",
       "        Brain       Bronchi         Colon      Duodenum           Eye \n",
       "       214314         12553         22919          3743         47275 \n",
       "  Gallbladder         Heart         Ileum     Intestine       Jejunum \n",
       "        14733        210597          3132         41851          4198 \n",
       "       Kidney         Liver          Lung        Muscle    Oesophagus \n",
       "        45368         26475         90521         26029         87947 \n",
       "        Ovary      Pancreas      Placenta        Pleura      Prostate \n",
       "         6927         26566          9926         19695          2445 \n",
       "       Rectum           Rib          Skin   Spinal cord        Spleen \n",
       "         5718          5907          6618          4483         15806 \n",
       "      Stomach        Testis        Thymus       Thyroid        Ureter \n",
       "        22187         13210          4516         12599          2205 \n",
       " Uterine tube        Uterus        Vessel \n",
       "         6496          8096          9652 "
      ]
     },
     "metadata": {},
     "output_type": "display_data"
    }
   ],
   "source": [
    "table(dataobj$organ)"
   ]
  },
  {
   "cell_type": "code",
   "execution_count": 4,
   "id": "ac2a7e53-cd82-41bd-bbaa-13bfd3f67f48",
   "metadata": {
    "execution": {
     "iopub.execute_input": "2021-06-20T14:52:07.818066Z",
     "iopub.status.busy": "2021-06-20T14:52:07.815308Z",
     "iopub.status.idle": "2021-06-20T14:52:45.367695Z",
     "shell.execute_reply": "2021-06-20T14:52:45.366533Z"
    }
   },
   "outputs": [],
   "source": [
    "dataobj.sub <- subset(dataobj,(organ=='Heart') )"
   ]
  },
  {
   "cell_type": "code",
   "execution_count": 12,
   "id": "023b2f00-2904-47d7-b488-3f2c75e680fa",
   "metadata": {
    "execution": {
     "iopub.execute_input": "2021-06-20T14:55:16.290149Z",
     "iopub.status.busy": "2021-06-20T14:55:16.286500Z",
     "iopub.status.idle": "2021-06-20T14:55:16.327175Z",
     "shell.execute_reply": "2021-06-20T14:55:16.326249Z"
    }
   },
   "outputs": [
    {
     "data": {
      "text/plain": [
       "\n",
       "                Adipocyte             Cardiomyocyte        Cardiomyocyte cell \n",
       "                      302                       505                     82102 \n",
       "           Dendritic cell          Endocardial cell          Endothelial cell \n",
       "                      140                     24059                      1766 \n",
       "              Erythrocyte                 Fibrocyte                Lymphocyte \n",
       "                      714                     52923                       123 \n",
       "               Macrophage                        NA                    Neuron \n",
       "                    14372                       105                      3304 \n",
       " Neutrophilic granulocyte                  Pericyte        Smooth muscle cell \n",
       "                      253                     18875                      8137 \n",
       "                   T cell              Unclassified Vascular endothelial cell \n",
       "                     1523                        56                      1338 "
      ]
     },
     "metadata": {},
     "output_type": "display_data"
    }
   ],
   "source": [
    "table(dataobj.sub$cell_type)"
   ]
  },
  {
   "cell_type": "code",
   "execution_count": 20,
   "id": "0b371451-3314-4939-986b-b3d45c20bcb9",
   "metadata": {
    "execution": {
     "iopub.execute_input": "2021-06-20T14:58:14.804043Z",
     "iopub.status.busy": "2021-06-20T14:58:14.801366Z",
     "iopub.status.idle": "2021-06-20T14:58:17.683168Z",
     "shell.execute_reply": "2021-06-20T14:58:17.682611Z"
    },
    "tags": []
   },
   "outputs": [],
   "source": [
    "dataobj.sub.gh <- which(dataobj.sub@assays$RNA@data[\"VCAM1\",]>=0.1&dataobj.sub@assays$RNA@data[\"ACTA2\",]>=0.1&dataobj.sub@assays$RNA@data[\"C1QA\",]>=0.1)"
   ]
  },
  {
   "cell_type": "code",
   "execution_count": 15,
   "id": "81c76e29-1d44-462e-b53a-4cbd51139c4e",
   "metadata": {
    "execution": {
     "iopub.execute_input": "2021-06-20T14:56:19.220870Z",
     "iopub.status.busy": "2021-06-20T14:56:19.219355Z",
     "iopub.status.idle": "2021-06-20T14:56:20.173176Z",
     "shell.execute_reply": "2021-06-20T14:56:20.172162Z"
    },
    "tags": []
   },
   "outputs": [],
   "source": [
    "dataobj.sub.gh <- which(dataobj.sub@assays$RNA@data[\"VCAM1\",]>=0.1)"
   ]
  },
  {
   "cell_type": "code",
   "execution_count": 24,
   "id": "329f7ea7-39fc-4c4a-aea6-0aa6a649014a",
   "metadata": {
    "execution": {
     "iopub.execute_input": "2021-06-20T14:58:50.455148Z",
     "iopub.status.busy": "2021-06-20T14:58:50.452212Z",
     "iopub.status.idle": "2021-06-20T14:58:50.473474Z",
     "shell.execute_reply": "2021-06-20T14:58:50.472245Z"
    },
    "tags": []
   },
   "outputs": [],
   "source": [
    "filtered_cell<-c(rownames(data.frame(dataobj.sub.gh)))\n",
    "filtered_cell<-unique(filtered_cell)"
   ]
  },
  {
   "cell_type": "code",
   "execution_count": 26,
   "id": "55749c90-532f-4a2c-8143-c87e077c8f1b",
   "metadata": {
    "execution": {
     "iopub.execute_input": "2021-06-20T14:59:05.245055Z",
     "iopub.status.busy": "2021-06-20T14:59:05.242303Z",
     "iopub.status.idle": "2021-06-20T14:59:05.255889Z",
     "shell.execute_reply": "2021-06-20T14:59:05.254885Z"
    }
   },
   "outputs": [],
   "source": [
    "dataobj.sub$cell_id<- colnames(dataobj.sub)"
   ]
  },
  {
   "cell_type": "code",
   "execution_count": 27,
   "id": "7049a938-9efe-4039-be27-39e1ba2ddbf9",
   "metadata": {
    "execution": {
     "iopub.execute_input": "2021-06-20T14:59:10.854266Z",
     "iopub.status.busy": "2021-06-20T14:59:10.851043Z",
     "iopub.status.idle": "2021-06-20T14:59:12.633221Z",
     "shell.execute_reply": "2021-06-20T14:59:12.632060Z"
    }
   },
   "outputs": [],
   "source": [
    "dataobj.filtered<- subset(dataobj.sub, cell_id %in% filtered_cell)"
   ]
  },
  {
   "cell_type": "code",
   "execution_count": 28,
   "id": "f0fb365b-e885-404e-b0b6-339ca2695faf",
   "metadata": {
    "execution": {
     "iopub.execute_input": "2021-06-20T14:59:20.632137Z",
     "iopub.status.busy": "2021-06-20T14:59:20.629319Z",
     "iopub.status.idle": "2021-06-20T14:59:21.280433Z",
     "shell.execute_reply": "2021-06-20T14:59:21.279262Z"
    }
   },
   "outputs": [],
   "source": [
    "saveRDS(dataobj.filtered,'filtered_cell.rds')"
   ]
  },
  {
   "cell_type": "code",
   "execution_count": 29,
   "id": "15b43f46-d8dc-4eb8-88f1-a6015528f752",
   "metadata": {
    "execution": {
     "iopub.execute_input": "2021-06-20T15:00:07.021131Z",
     "iopub.status.busy": "2021-06-20T15:00:07.018081Z",
     "iopub.status.idle": "2021-06-20T15:00:07.044357Z",
     "shell.execute_reply": "2021-06-20T15:00:07.042949Z"
    }
   },
   "outputs": [
    {
     "data": {
      "text/plain": [
       "\n",
       "  10.1016/j.cell.2019.11.025 10.1016/j.celrep.2019.01.079 \n",
       "                          13                           82 \n",
       "   10.1038/s41556-019-0446-7    10.1038/s41586-020-2157-4 \n",
       "                           6                            2 \n",
       "                          NA \n",
       "                           1 "
      ]
     },
     "metadata": {},
     "output_type": "display_data"
    }
   ],
   "source": [
    "table(dataobj.filtered$study_id)"
   ]
  },
  {
   "cell_type": "code",
   "execution_count": 31,
   "id": "c99c8218-ce9a-4c80-a281-a6ef93cc0ea1",
   "metadata": {
    "execution": {
     "iopub.execute_input": "2021-06-20T15:02:38.022267Z",
     "iopub.status.busy": "2021-06-20T15:02:38.019494Z",
     "iopub.status.idle": "2021-06-20T15:02:38.042894Z",
     "shell.execute_reply": "2021-06-20T15:02:38.042462Z"
    },
    "tags": []
   },
   "outputs": [
    {
     "data": {
      "text/html": [
       "<style>\n",
       ".dl-inline {width: auto; margin:0; padding: 0}\n",
       ".dl-inline>dt, .dl-inline>dd {float: none; width: auto; display: inline-block}\n",
       ".dl-inline>dt::after {content: \":\\0020\"; padding-right: .5ex}\n",
       ".dl-inline>dt:not(:first-of-type) {padding-left: .5ex}\n",
       "</style><dl class=dl-inline><dt>HE5W_1_LA.51_2</dt><dd>2162752</dd><dt>HE5W_1_LA.80_2</dt><dd>2162776</dd><dt>HE5W_1_LV.48_2</dt><dd>2162836</dd><dt>HE5W_1_LV.55_2</dt><dd>2162843</dd><dt>HE5W_1_LV.92_2</dt><dd>2162880</dd><dt>HE5W_1_LV.95_2</dt><dd>2162883</dd><dt>HE5W_1_RA.3_2</dt><dd>2162887</dd><dt>HE5W_1_RA.9_2</dt><dd>2162893</dd><dt>HE5W_1_RA.16_2</dt><dd>2162899</dd><dt>HE5W_1_RA.38_2</dt><dd>2162921</dd><dt>HE5W_1_RA.47_2</dt><dd>2162930</dd><dt>HE5W_1_RA.60_2</dt><dd>2162943</dd><dt>HE5W_1_RA.64_2</dt><dd>2162947</dd><dt>HE5W_1_RA.67_2</dt><dd>2162950</dd><dt>HE5W_1_RA.70_2</dt><dd>2162953</dd><dt>HE5W_1_RA.72_2</dt><dd>2162955</dd><dt>HE5W_1_RA.76_2</dt><dd>2162959</dd><dt>HE5W_1_RA.77_2</dt><dd>2162960</dd><dt>HE5W_1_RA.83_2</dt><dd>2162966</dd><dt>HE5W_1_RA.84_2</dt><dd>2162967</dd><dt>HE5W_1_RA.92_2</dt><dd>2162975</dd><dt>HE6W_2_LA.10_2</dt><dd>2163235</dd><dt>HE6W_2_LA.47_2</dt><dd>2163257</dd><dt>HE6W_2_LV.86_2</dt><dd>2163320</dd><dt>HE6W_2_RA.57_2</dt><dd>2163350</dd><dt>HE6W_2_RA.68_2</dt><dd>2163357</dd><dt>HE6W_2_RA.94_2</dt><dd>2163370</dd><dt>HE7W_1_LA.9_2</dt><dd>2163427</dd><dt>HE7W_1_LA.17_2</dt><dd>2163435</dd><dt>HE9W_1_RA.2_2</dt><dd>2164110</dd><dt>HE9W_1_RA.10_2</dt><dd>2164117</dd><dt>HE9W_1_RA.22_2</dt><dd>2164129</dd><dt>HE9W_1_RA.24_2</dt><dd>2164131</dd><dt>HE9W_1_RA.33_2</dt><dd>2164140</dd><dt>HE9W_1_RA.38_2</dt><dd>2164145</dd><dt>HE9W_1_RA.42_2</dt><dd>2164149</dd><dt>HE15W_1_LA.4_2</dt><dd>2164678</dd><dt>HE15W_1_LA.15_2</dt><dd>2164685</dd><dt>HE15W_1_LA.16_2</dt><dd>2164686</dd><dt>HE15W_1_LA.30_2</dt><dd>2164698</dd><dt>HE15W_1_LA.39_2</dt><dd>2164704</dd><dt>HE15W_1_LV.8_2</dt><dd>2164717</dd><dt>HE15W_1_LV.20_2</dt><dd>2164725</dd><dt>HE15W_1_LV.29_2</dt><dd>2164732</dd><dt>HE15W_1_LV.32_2</dt><dd>2164735</dd><dt>HE17W_2_LV.17_2</dt><dd>2164974</dd><dt>HE20W_1_LA.30_2</dt><dd>2165092</dd><dt>HE20W_1_LA.42_2</dt><dd>2165102</dd><dt>HE20W_1_RA.7_2</dt><dd>2165152</dd><dt>HE22W_1_AV.26_2</dt><dd>2165250</dd><dt>HE22W_1_AV.51_2</dt><dd>2165266</dd><dt>HE22W_1_AV.71_2</dt><dd>2165283</dd><dt>HE22W_1_LA.67_2</dt><dd>2165401</dd><dt>HE22W_1_LA.86_2</dt><dd>2165413</dd><dt>HE22W_1_PV.6_2</dt><dd>2165512</dd><dt>HE22W_1_PV.23_2</dt><dd>2165524</dd><dt>HE22W_1_RA.1_2</dt><dd>2165561</dd><dt>HE22W_1_RA.3_2</dt><dd>2165563</dd><dt>HE22W_1_RA.31_2</dt><dd>2165587</dd><dt>HE22W_1_RA.43_2</dt><dd>2165599</dd><dt>HE22W_1_RA.91_2</dt><dd>2165638</dd><dt>HE22W_1_RV.49_2</dt><dd>2165673</dd><dt>HE22W_1_RV.83_2</dt><dd>2165703</dd><dt>HE22W_1_RV.84_2</dt><dd>2165704</dd><dt>HE22W_1_RV.87_2</dt><dd>2165707</dd><dt>HE22W_1_RV.89_2</dt><dd>2165709</dd><dt>HE22W_1_TV.15_2</dt><dd>2165723</dd><dt>HE22W_1_TV.29_2</dt><dd>2165734</dd><dt>HE22W_1_TV.41_2</dt><dd>2165743</dd><dt>HE22W_1_TV.48_2</dt><dd>2165749</dd><dt>HE22W_1_TV.52_2</dt><dd>2165753</dd><dt>HE22W_1_TV.66_2</dt><dd>2165765</dd><dt>HE22W_1_TV.69_2</dt><dd>2165767</dd><dt>HE22W_1_TV.71_2</dt><dd>2165769</dd><dt>HE23W_2_AV.40_2</dt><dd>2165825</dd><dt>HE23W_2_BV.5_2</dt><dd>2165838</dd><dt>HE23W_2_PV.3_2</dt><dd>2165933</dd><dt>HE25W_1_BV.12_2</dt><dd>2166369</dd><dt>HE25W_1_BV.23_2</dt><dd>2166379</dd><dt>HE25W_1_BV.31_2</dt><dd>2166386</dd><dt>HE25W_1_EP.10_2</dt><dd>2166404</dd><dt>HE25W_1_PV.23_2</dt><dd>2166431</dd><dt>ACGGAGAAGATGGGTC.1_5</dt><dd>2166708</dd><dt>ATCACGAAGGGCTCTC.1_5</dt><dd>2166879</dd><dt>CCTCTGACAGCTTCGG.1_5</dt><dd>2167218</dd><dt>CGTGTAAAGCGCCTCA.1_5</dt><dd>2167383</dd><dt>CTCATTAAGACCTTTG.1_5</dt><dd>2167440</dd><dt>CTGTTTAGTTCAGCGC.1_5</dt><dd>2167506</dd><dt>CTTTGCGTCCCTCTTT.1_5</dt><dd>2167525</dd><dt>GTCGTAAGTAGCGTAG.1_5</dt><dd>2167921</dd><dt>GTCTCGTTCTGGTTCC.1_5</dt><dd>2167929</dd><dt>TACTTGTGTGGTTTCA.1_5</dt><dd>2168038</dd><dt>TATCAGGTCCGCGGTA.1_5</dt><dd>2168070</dd><dt>TCTGGAAAGAATTCCC.1_5</dt><dd>2168208</dd><dt>TGACGGCAGACAAAGG.1_5</dt><dd>2168223</dd><dt>AdultHeart_1.AGGACTTGCAATCGTGGC_6</dt><dd>2170620</dd><dt>FetalHeart_2.CATGATTGCAATCGCACC_9</dt><dd>2179397</dd><dt>SC_92563_39_62_10</dt><dd>2181757</dd><dt>SC_92563_69_64_10</dt><dd>2182181</dd><dt>SC_96281_18_5_10</dt><dd>2182452</dd><dt>SC_96281_68_32_10</dt><dd>2182456</dd><dt>SC_96281_34_9_10</dt><dd>2182480</dd><dt>SC_96359_47_2_10</dt><dd>2183950</dd><dt>M5.TCGTAGAGTAATAGCA_12</dt><dd>2361662</dd></dl>\n"
      ],
      "text/latex": [
       "\\begin{description*}\n",
       "\\item[HE5W\\textbackslash{}\\_1\\textbackslash{}\\_LA.51\\textbackslash{}\\_2] 2162752\n",
       "\\item[HE5W\\textbackslash{}\\_1\\textbackslash{}\\_LA.80\\textbackslash{}\\_2] 2162776\n",
       "\\item[HE5W\\textbackslash{}\\_1\\textbackslash{}\\_LV.48\\textbackslash{}\\_2] 2162836\n",
       "\\item[HE5W\\textbackslash{}\\_1\\textbackslash{}\\_LV.55\\textbackslash{}\\_2] 2162843\n",
       "\\item[HE5W\\textbackslash{}\\_1\\textbackslash{}\\_LV.92\\textbackslash{}\\_2] 2162880\n",
       "\\item[HE5W\\textbackslash{}\\_1\\textbackslash{}\\_LV.95\\textbackslash{}\\_2] 2162883\n",
       "\\item[HE5W\\textbackslash{}\\_1\\textbackslash{}\\_RA.3\\textbackslash{}\\_2] 2162887\n",
       "\\item[HE5W\\textbackslash{}\\_1\\textbackslash{}\\_RA.9\\textbackslash{}\\_2] 2162893\n",
       "\\item[HE5W\\textbackslash{}\\_1\\textbackslash{}\\_RA.16\\textbackslash{}\\_2] 2162899\n",
       "\\item[HE5W\\textbackslash{}\\_1\\textbackslash{}\\_RA.38\\textbackslash{}\\_2] 2162921\n",
       "\\item[HE5W\\textbackslash{}\\_1\\textbackslash{}\\_RA.47\\textbackslash{}\\_2] 2162930\n",
       "\\item[HE5W\\textbackslash{}\\_1\\textbackslash{}\\_RA.60\\textbackslash{}\\_2] 2162943\n",
       "\\item[HE5W\\textbackslash{}\\_1\\textbackslash{}\\_RA.64\\textbackslash{}\\_2] 2162947\n",
       "\\item[HE5W\\textbackslash{}\\_1\\textbackslash{}\\_RA.67\\textbackslash{}\\_2] 2162950\n",
       "\\item[HE5W\\textbackslash{}\\_1\\textbackslash{}\\_RA.70\\textbackslash{}\\_2] 2162953\n",
       "\\item[HE5W\\textbackslash{}\\_1\\textbackslash{}\\_RA.72\\textbackslash{}\\_2] 2162955\n",
       "\\item[HE5W\\textbackslash{}\\_1\\textbackslash{}\\_RA.76\\textbackslash{}\\_2] 2162959\n",
       "\\item[HE5W\\textbackslash{}\\_1\\textbackslash{}\\_RA.77\\textbackslash{}\\_2] 2162960\n",
       "\\item[HE5W\\textbackslash{}\\_1\\textbackslash{}\\_RA.83\\textbackslash{}\\_2] 2162966\n",
       "\\item[HE5W\\textbackslash{}\\_1\\textbackslash{}\\_RA.84\\textbackslash{}\\_2] 2162967\n",
       "\\item[HE5W\\textbackslash{}\\_1\\textbackslash{}\\_RA.92\\textbackslash{}\\_2] 2162975\n",
       "\\item[HE6W\\textbackslash{}\\_2\\textbackslash{}\\_LA.10\\textbackslash{}\\_2] 2163235\n",
       "\\item[HE6W\\textbackslash{}\\_2\\textbackslash{}\\_LA.47\\textbackslash{}\\_2] 2163257\n",
       "\\item[HE6W\\textbackslash{}\\_2\\textbackslash{}\\_LV.86\\textbackslash{}\\_2] 2163320\n",
       "\\item[HE6W\\textbackslash{}\\_2\\textbackslash{}\\_RA.57\\textbackslash{}\\_2] 2163350\n",
       "\\item[HE6W\\textbackslash{}\\_2\\textbackslash{}\\_RA.68\\textbackslash{}\\_2] 2163357\n",
       "\\item[HE6W\\textbackslash{}\\_2\\textbackslash{}\\_RA.94\\textbackslash{}\\_2] 2163370\n",
       "\\item[HE7W\\textbackslash{}\\_1\\textbackslash{}\\_LA.9\\textbackslash{}\\_2] 2163427\n",
       "\\item[HE7W\\textbackslash{}\\_1\\textbackslash{}\\_LA.17\\textbackslash{}\\_2] 2163435\n",
       "\\item[HE9W\\textbackslash{}\\_1\\textbackslash{}\\_RA.2\\textbackslash{}\\_2] 2164110\n",
       "\\item[HE9W\\textbackslash{}\\_1\\textbackslash{}\\_RA.10\\textbackslash{}\\_2] 2164117\n",
       "\\item[HE9W\\textbackslash{}\\_1\\textbackslash{}\\_RA.22\\textbackslash{}\\_2] 2164129\n",
       "\\item[HE9W\\textbackslash{}\\_1\\textbackslash{}\\_RA.24\\textbackslash{}\\_2] 2164131\n",
       "\\item[HE9W\\textbackslash{}\\_1\\textbackslash{}\\_RA.33\\textbackslash{}\\_2] 2164140\n",
       "\\item[HE9W\\textbackslash{}\\_1\\textbackslash{}\\_RA.38\\textbackslash{}\\_2] 2164145\n",
       "\\item[HE9W\\textbackslash{}\\_1\\textbackslash{}\\_RA.42\\textbackslash{}\\_2] 2164149\n",
       "\\item[HE15W\\textbackslash{}\\_1\\textbackslash{}\\_LA.4\\textbackslash{}\\_2] 2164678\n",
       "\\item[HE15W\\textbackslash{}\\_1\\textbackslash{}\\_LA.15\\textbackslash{}\\_2] 2164685\n",
       "\\item[HE15W\\textbackslash{}\\_1\\textbackslash{}\\_LA.16\\textbackslash{}\\_2] 2164686\n",
       "\\item[HE15W\\textbackslash{}\\_1\\textbackslash{}\\_LA.30\\textbackslash{}\\_2] 2164698\n",
       "\\item[HE15W\\textbackslash{}\\_1\\textbackslash{}\\_LA.39\\textbackslash{}\\_2] 2164704\n",
       "\\item[HE15W\\textbackslash{}\\_1\\textbackslash{}\\_LV.8\\textbackslash{}\\_2] 2164717\n",
       "\\item[HE15W\\textbackslash{}\\_1\\textbackslash{}\\_LV.20\\textbackslash{}\\_2] 2164725\n",
       "\\item[HE15W\\textbackslash{}\\_1\\textbackslash{}\\_LV.29\\textbackslash{}\\_2] 2164732\n",
       "\\item[HE15W\\textbackslash{}\\_1\\textbackslash{}\\_LV.32\\textbackslash{}\\_2] 2164735\n",
       "\\item[HE17W\\textbackslash{}\\_2\\textbackslash{}\\_LV.17\\textbackslash{}\\_2] 2164974\n",
       "\\item[HE20W\\textbackslash{}\\_1\\textbackslash{}\\_LA.30\\textbackslash{}\\_2] 2165092\n",
       "\\item[HE20W\\textbackslash{}\\_1\\textbackslash{}\\_LA.42\\textbackslash{}\\_2] 2165102\n",
       "\\item[HE20W\\textbackslash{}\\_1\\textbackslash{}\\_RA.7\\textbackslash{}\\_2] 2165152\n",
       "\\item[HE22W\\textbackslash{}\\_1\\textbackslash{}\\_AV.26\\textbackslash{}\\_2] 2165250\n",
       "\\item[HE22W\\textbackslash{}\\_1\\textbackslash{}\\_AV.51\\textbackslash{}\\_2] 2165266\n",
       "\\item[HE22W\\textbackslash{}\\_1\\textbackslash{}\\_AV.71\\textbackslash{}\\_2] 2165283\n",
       "\\item[HE22W\\textbackslash{}\\_1\\textbackslash{}\\_LA.67\\textbackslash{}\\_2] 2165401\n",
       "\\item[HE22W\\textbackslash{}\\_1\\textbackslash{}\\_LA.86\\textbackslash{}\\_2] 2165413\n",
       "\\item[HE22W\\textbackslash{}\\_1\\textbackslash{}\\_PV.6\\textbackslash{}\\_2] 2165512\n",
       "\\item[HE22W\\textbackslash{}\\_1\\textbackslash{}\\_PV.23\\textbackslash{}\\_2] 2165524\n",
       "\\item[HE22W\\textbackslash{}\\_1\\textbackslash{}\\_RA.1\\textbackslash{}\\_2] 2165561\n",
       "\\item[HE22W\\textbackslash{}\\_1\\textbackslash{}\\_RA.3\\textbackslash{}\\_2] 2165563\n",
       "\\item[HE22W\\textbackslash{}\\_1\\textbackslash{}\\_RA.31\\textbackslash{}\\_2] 2165587\n",
       "\\item[HE22W\\textbackslash{}\\_1\\textbackslash{}\\_RA.43\\textbackslash{}\\_2] 2165599\n",
       "\\item[HE22W\\textbackslash{}\\_1\\textbackslash{}\\_RA.91\\textbackslash{}\\_2] 2165638\n",
       "\\item[HE22W\\textbackslash{}\\_1\\textbackslash{}\\_RV.49\\textbackslash{}\\_2] 2165673\n",
       "\\item[HE22W\\textbackslash{}\\_1\\textbackslash{}\\_RV.83\\textbackslash{}\\_2] 2165703\n",
       "\\item[HE22W\\textbackslash{}\\_1\\textbackslash{}\\_RV.84\\textbackslash{}\\_2] 2165704\n",
       "\\item[HE22W\\textbackslash{}\\_1\\textbackslash{}\\_RV.87\\textbackslash{}\\_2] 2165707\n",
       "\\item[HE22W\\textbackslash{}\\_1\\textbackslash{}\\_RV.89\\textbackslash{}\\_2] 2165709\n",
       "\\item[HE22W\\textbackslash{}\\_1\\textbackslash{}\\_TV.15\\textbackslash{}\\_2] 2165723\n",
       "\\item[HE22W\\textbackslash{}\\_1\\textbackslash{}\\_TV.29\\textbackslash{}\\_2] 2165734\n",
       "\\item[HE22W\\textbackslash{}\\_1\\textbackslash{}\\_TV.41\\textbackslash{}\\_2] 2165743\n",
       "\\item[HE22W\\textbackslash{}\\_1\\textbackslash{}\\_TV.48\\textbackslash{}\\_2] 2165749\n",
       "\\item[HE22W\\textbackslash{}\\_1\\textbackslash{}\\_TV.52\\textbackslash{}\\_2] 2165753\n",
       "\\item[HE22W\\textbackslash{}\\_1\\textbackslash{}\\_TV.66\\textbackslash{}\\_2] 2165765\n",
       "\\item[HE22W\\textbackslash{}\\_1\\textbackslash{}\\_TV.69\\textbackslash{}\\_2] 2165767\n",
       "\\item[HE22W\\textbackslash{}\\_1\\textbackslash{}\\_TV.71\\textbackslash{}\\_2] 2165769\n",
       "\\item[HE23W\\textbackslash{}\\_2\\textbackslash{}\\_AV.40\\textbackslash{}\\_2] 2165825\n",
       "\\item[HE23W\\textbackslash{}\\_2\\textbackslash{}\\_BV.5\\textbackslash{}\\_2] 2165838\n",
       "\\item[HE23W\\textbackslash{}\\_2\\textbackslash{}\\_PV.3\\textbackslash{}\\_2] 2165933\n",
       "\\item[HE25W\\textbackslash{}\\_1\\textbackslash{}\\_BV.12\\textbackslash{}\\_2] 2166369\n",
       "\\item[HE25W\\textbackslash{}\\_1\\textbackslash{}\\_BV.23\\textbackslash{}\\_2] 2166379\n",
       "\\item[HE25W\\textbackslash{}\\_1\\textbackslash{}\\_BV.31\\textbackslash{}\\_2] 2166386\n",
       "\\item[HE25W\\textbackslash{}\\_1\\textbackslash{}\\_EP.10\\textbackslash{}\\_2] 2166404\n",
       "\\item[HE25W\\textbackslash{}\\_1\\textbackslash{}\\_PV.23\\textbackslash{}\\_2] 2166431\n",
       "\\item[ACGGAGAAGATGGGTC.1\\textbackslash{}\\_5] 2166708\n",
       "\\item[ATCACGAAGGGCTCTC.1\\textbackslash{}\\_5] 2166879\n",
       "\\item[CCTCTGACAGCTTCGG.1\\textbackslash{}\\_5] 2167218\n",
       "\\item[CGTGTAAAGCGCCTCA.1\\textbackslash{}\\_5] 2167383\n",
       "\\item[CTCATTAAGACCTTTG.1\\textbackslash{}\\_5] 2167440\n",
       "\\item[CTGTTTAGTTCAGCGC.1\\textbackslash{}\\_5] 2167506\n",
       "\\item[CTTTGCGTCCCTCTTT.1\\textbackslash{}\\_5] 2167525\n",
       "\\item[GTCGTAAGTAGCGTAG.1\\textbackslash{}\\_5] 2167921\n",
       "\\item[GTCTCGTTCTGGTTCC.1\\textbackslash{}\\_5] 2167929\n",
       "\\item[TACTTGTGTGGTTTCA.1\\textbackslash{}\\_5] 2168038\n",
       "\\item[TATCAGGTCCGCGGTA.1\\textbackslash{}\\_5] 2168070\n",
       "\\item[TCTGGAAAGAATTCCC.1\\textbackslash{}\\_5] 2168208\n",
       "\\item[TGACGGCAGACAAAGG.1\\textbackslash{}\\_5] 2168223\n",
       "\\item[AdultHeart\\textbackslash{}\\_1.AGGACTTGCAATCGTGGC\\textbackslash{}\\_6] 2170620\n",
       "\\item[FetalHeart\\textbackslash{}\\_2.CATGATTGCAATCGCACC\\textbackslash{}\\_9] 2179397\n",
       "\\item[SC\\textbackslash{}\\_92563\\textbackslash{}\\_39\\textbackslash{}\\_62\\textbackslash{}\\_10] 2181757\n",
       "\\item[SC\\textbackslash{}\\_92563\\textbackslash{}\\_69\\textbackslash{}\\_64\\textbackslash{}\\_10] 2182181\n",
       "\\item[SC\\textbackslash{}\\_96281\\textbackslash{}\\_18\\textbackslash{}\\_5\\textbackslash{}\\_10] 2182452\n",
       "\\item[SC\\textbackslash{}\\_96281\\textbackslash{}\\_68\\textbackslash{}\\_32\\textbackslash{}\\_10] 2182456\n",
       "\\item[SC\\textbackslash{}\\_96281\\textbackslash{}\\_34\\textbackslash{}\\_9\\textbackslash{}\\_10] 2182480\n",
       "\\item[SC\\textbackslash{}\\_96359\\textbackslash{}\\_47\\textbackslash{}\\_2\\textbackslash{}\\_10] 2183950\n",
       "\\item[M5.TCGTAGAGTAATAGCA\\textbackslash{}\\_12] 2361662\n",
       "\\end{description*}\n"
      ],
      "text/markdown": [
       "HE5W_1_LA.51_2\n",
       ":   2162752HE5W_1_LA.80_2\n",
       ":   2162776HE5W_1_LV.48_2\n",
       ":   2162836HE5W_1_LV.55_2\n",
       ":   2162843HE5W_1_LV.92_2\n",
       ":   2162880HE5W_1_LV.95_2\n",
       ":   2162883HE5W_1_RA.3_2\n",
       ":   2162887HE5W_1_RA.9_2\n",
       ":   2162893HE5W_1_RA.16_2\n",
       ":   2162899HE5W_1_RA.38_2\n",
       ":   2162921HE5W_1_RA.47_2\n",
       ":   2162930HE5W_1_RA.60_2\n",
       ":   2162943HE5W_1_RA.64_2\n",
       ":   2162947HE5W_1_RA.67_2\n",
       ":   2162950HE5W_1_RA.70_2\n",
       ":   2162953HE5W_1_RA.72_2\n",
       ":   2162955HE5W_1_RA.76_2\n",
       ":   2162959HE5W_1_RA.77_2\n",
       ":   2162960HE5W_1_RA.83_2\n",
       ":   2162966HE5W_1_RA.84_2\n",
       ":   2162967HE5W_1_RA.92_2\n",
       ":   2162975HE6W_2_LA.10_2\n",
       ":   2163235HE6W_2_LA.47_2\n",
       ":   2163257HE6W_2_LV.86_2\n",
       ":   2163320HE6W_2_RA.57_2\n",
       ":   2163350HE6W_2_RA.68_2\n",
       ":   2163357HE6W_2_RA.94_2\n",
       ":   2163370HE7W_1_LA.9_2\n",
       ":   2163427HE7W_1_LA.17_2\n",
       ":   2163435HE9W_1_RA.2_2\n",
       ":   2164110HE9W_1_RA.10_2\n",
       ":   2164117HE9W_1_RA.22_2\n",
       ":   2164129HE9W_1_RA.24_2\n",
       ":   2164131HE9W_1_RA.33_2\n",
       ":   2164140HE9W_1_RA.38_2\n",
       ":   2164145HE9W_1_RA.42_2\n",
       ":   2164149HE15W_1_LA.4_2\n",
       ":   2164678HE15W_1_LA.15_2\n",
       ":   2164685HE15W_1_LA.16_2\n",
       ":   2164686HE15W_1_LA.30_2\n",
       ":   2164698HE15W_1_LA.39_2\n",
       ":   2164704HE15W_1_LV.8_2\n",
       ":   2164717HE15W_1_LV.20_2\n",
       ":   2164725HE15W_1_LV.29_2\n",
       ":   2164732HE15W_1_LV.32_2\n",
       ":   2164735HE17W_2_LV.17_2\n",
       ":   2164974HE20W_1_LA.30_2\n",
       ":   2165092HE20W_1_LA.42_2\n",
       ":   2165102HE20W_1_RA.7_2\n",
       ":   2165152HE22W_1_AV.26_2\n",
       ":   2165250HE22W_1_AV.51_2\n",
       ":   2165266HE22W_1_AV.71_2\n",
       ":   2165283HE22W_1_LA.67_2\n",
       ":   2165401HE22W_1_LA.86_2\n",
       ":   2165413HE22W_1_PV.6_2\n",
       ":   2165512HE22W_1_PV.23_2\n",
       ":   2165524HE22W_1_RA.1_2\n",
       ":   2165561HE22W_1_RA.3_2\n",
       ":   2165563HE22W_1_RA.31_2\n",
       ":   2165587HE22W_1_RA.43_2\n",
       ":   2165599HE22W_1_RA.91_2\n",
       ":   2165638HE22W_1_RV.49_2\n",
       ":   2165673HE22W_1_RV.83_2\n",
       ":   2165703HE22W_1_RV.84_2\n",
       ":   2165704HE22W_1_RV.87_2\n",
       ":   2165707HE22W_1_RV.89_2\n",
       ":   2165709HE22W_1_TV.15_2\n",
       ":   2165723HE22W_1_TV.29_2\n",
       ":   2165734HE22W_1_TV.41_2\n",
       ":   2165743HE22W_1_TV.48_2\n",
       ":   2165749HE22W_1_TV.52_2\n",
       ":   2165753HE22W_1_TV.66_2\n",
       ":   2165765HE22W_1_TV.69_2\n",
       ":   2165767HE22W_1_TV.71_2\n",
       ":   2165769HE23W_2_AV.40_2\n",
       ":   2165825HE23W_2_BV.5_2\n",
       ":   2165838HE23W_2_PV.3_2\n",
       ":   2165933HE25W_1_BV.12_2\n",
       ":   2166369HE25W_1_BV.23_2\n",
       ":   2166379HE25W_1_BV.31_2\n",
       ":   2166386HE25W_1_EP.10_2\n",
       ":   2166404HE25W_1_PV.23_2\n",
       ":   2166431ACGGAGAAGATGGGTC.1_5\n",
       ":   2166708ATCACGAAGGGCTCTC.1_5\n",
       ":   2166879CCTCTGACAGCTTCGG.1_5\n",
       ":   2167218CGTGTAAAGCGCCTCA.1_5\n",
       ":   2167383CTCATTAAGACCTTTG.1_5\n",
       ":   2167440CTGTTTAGTTCAGCGC.1_5\n",
       ":   2167506CTTTGCGTCCCTCTTT.1_5\n",
       ":   2167525GTCGTAAGTAGCGTAG.1_5\n",
       ":   2167921GTCTCGTTCTGGTTCC.1_5\n",
       ":   2167929TACTTGTGTGGTTTCA.1_5\n",
       ":   2168038TATCAGGTCCGCGGTA.1_5\n",
       ":   2168070TCTGGAAAGAATTCCC.1_5\n",
       ":   2168208TGACGGCAGACAAAGG.1_5\n",
       ":   2168223AdultHeart_1.AGGACTTGCAATCGTGGC_6\n",
       ":   2170620FetalHeart_2.CATGATTGCAATCGCACC_9\n",
       ":   2179397SC_92563_39_62_10\n",
       ":   2181757SC_92563_69_64_10\n",
       ":   2182181SC_96281_18_5_10\n",
       ":   2182452SC_96281_68_32_10\n",
       ":   2182456SC_96281_34_9_10\n",
       ":   2182480SC_96359_47_2_10\n",
       ":   2183950M5.TCGTAGAGTAATAGCA_12\n",
       ":   2361662\n",
       "\n"
      ],
      "text/plain": [
       "                   HE5W_1_LA.51_2                    HE5W_1_LA.80_2 \n",
       "                          2162752                           2162776 \n",
       "                   HE5W_1_LV.48_2                    HE5W_1_LV.55_2 \n",
       "                          2162836                           2162843 \n",
       "                   HE5W_1_LV.92_2                    HE5W_1_LV.95_2 \n",
       "                          2162880                           2162883 \n",
       "                    HE5W_1_RA.3_2                     HE5W_1_RA.9_2 \n",
       "                          2162887                           2162893 \n",
       "                   HE5W_1_RA.16_2                    HE5W_1_RA.38_2 \n",
       "                          2162899                           2162921 \n",
       "                   HE5W_1_RA.47_2                    HE5W_1_RA.60_2 \n",
       "                          2162930                           2162943 \n",
       "                   HE5W_1_RA.64_2                    HE5W_1_RA.67_2 \n",
       "                          2162947                           2162950 \n",
       "                   HE5W_1_RA.70_2                    HE5W_1_RA.72_2 \n",
       "                          2162953                           2162955 \n",
       "                   HE5W_1_RA.76_2                    HE5W_1_RA.77_2 \n",
       "                          2162959                           2162960 \n",
       "                   HE5W_1_RA.83_2                    HE5W_1_RA.84_2 \n",
       "                          2162966                           2162967 \n",
       "                   HE5W_1_RA.92_2                    HE6W_2_LA.10_2 \n",
       "                          2162975                           2163235 \n",
       "                   HE6W_2_LA.47_2                    HE6W_2_LV.86_2 \n",
       "                          2163257                           2163320 \n",
       "                   HE6W_2_RA.57_2                    HE6W_2_RA.68_2 \n",
       "                          2163350                           2163357 \n",
       "                   HE6W_2_RA.94_2                     HE7W_1_LA.9_2 \n",
       "                          2163370                           2163427 \n",
       "                   HE7W_1_LA.17_2                     HE9W_1_RA.2_2 \n",
       "                          2163435                           2164110 \n",
       "                   HE9W_1_RA.10_2                    HE9W_1_RA.22_2 \n",
       "                          2164117                           2164129 \n",
       "                   HE9W_1_RA.24_2                    HE9W_1_RA.33_2 \n",
       "                          2164131                           2164140 \n",
       "                   HE9W_1_RA.38_2                    HE9W_1_RA.42_2 \n",
       "                          2164145                           2164149 \n",
       "                   HE15W_1_LA.4_2                   HE15W_1_LA.15_2 \n",
       "                          2164678                           2164685 \n",
       "                  HE15W_1_LA.16_2                   HE15W_1_LA.30_2 \n",
       "                          2164686                           2164698 \n",
       "                  HE15W_1_LA.39_2                    HE15W_1_LV.8_2 \n",
       "                          2164704                           2164717 \n",
       "                  HE15W_1_LV.20_2                   HE15W_1_LV.29_2 \n",
       "                          2164725                           2164732 \n",
       "                  HE15W_1_LV.32_2                   HE17W_2_LV.17_2 \n",
       "                          2164735                           2164974 \n",
       "                  HE20W_1_LA.30_2                   HE20W_1_LA.42_2 \n",
       "                          2165092                           2165102 \n",
       "                   HE20W_1_RA.7_2                   HE22W_1_AV.26_2 \n",
       "                          2165152                           2165250 \n",
       "                  HE22W_1_AV.51_2                   HE22W_1_AV.71_2 \n",
       "                          2165266                           2165283 \n",
       "                  HE22W_1_LA.67_2                   HE22W_1_LA.86_2 \n",
       "                          2165401                           2165413 \n",
       "                   HE22W_1_PV.6_2                   HE22W_1_PV.23_2 \n",
       "                          2165512                           2165524 \n",
       "                   HE22W_1_RA.1_2                    HE22W_1_RA.3_2 \n",
       "                          2165561                           2165563 \n",
       "                  HE22W_1_RA.31_2                   HE22W_1_RA.43_2 \n",
       "                          2165587                           2165599 \n",
       "                  HE22W_1_RA.91_2                   HE22W_1_RV.49_2 \n",
       "                          2165638                           2165673 \n",
       "                  HE22W_1_RV.83_2                   HE22W_1_RV.84_2 \n",
       "                          2165703                           2165704 \n",
       "                  HE22W_1_RV.87_2                   HE22W_1_RV.89_2 \n",
       "                          2165707                           2165709 \n",
       "                  HE22W_1_TV.15_2                   HE22W_1_TV.29_2 \n",
       "                          2165723                           2165734 \n",
       "                  HE22W_1_TV.41_2                   HE22W_1_TV.48_2 \n",
       "                          2165743                           2165749 \n",
       "                  HE22W_1_TV.52_2                   HE22W_1_TV.66_2 \n",
       "                          2165753                           2165765 \n",
       "                  HE22W_1_TV.69_2                   HE22W_1_TV.71_2 \n",
       "                          2165767                           2165769 \n",
       "                  HE23W_2_AV.40_2                    HE23W_2_BV.5_2 \n",
       "                          2165825                           2165838 \n",
       "                   HE23W_2_PV.3_2                   HE25W_1_BV.12_2 \n",
       "                          2165933                           2166369 \n",
       "                  HE25W_1_BV.23_2                   HE25W_1_BV.31_2 \n",
       "                          2166379                           2166386 \n",
       "                  HE25W_1_EP.10_2                   HE25W_1_PV.23_2 \n",
       "                          2166404                           2166431 \n",
       "             ACGGAGAAGATGGGTC.1_5              ATCACGAAGGGCTCTC.1_5 \n",
       "                          2166708                           2166879 \n",
       "             CCTCTGACAGCTTCGG.1_5              CGTGTAAAGCGCCTCA.1_5 \n",
       "                          2167218                           2167383 \n",
       "             CTCATTAAGACCTTTG.1_5              CTGTTTAGTTCAGCGC.1_5 \n",
       "                          2167440                           2167506 \n",
       "             CTTTGCGTCCCTCTTT.1_5              GTCGTAAGTAGCGTAG.1_5 \n",
       "                          2167525                           2167921 \n",
       "             GTCTCGTTCTGGTTCC.1_5              TACTTGTGTGGTTTCA.1_5 \n",
       "                          2167929                           2168038 \n",
       "             TATCAGGTCCGCGGTA.1_5              TCTGGAAAGAATTCCC.1_5 \n",
       "                          2168070                           2168208 \n",
       "             TGACGGCAGACAAAGG.1_5 AdultHeart_1.AGGACTTGCAATCGTGGC_6 \n",
       "                          2168223                           2170620 \n",
       "FetalHeart_2.CATGATTGCAATCGCACC_9                 SC_92563_39_62_10 \n",
       "                          2179397                           2181757 \n",
       "                SC_92563_69_64_10                  SC_96281_18_5_10 \n",
       "                          2182181                           2182452 \n",
       "                SC_96281_68_32_10                  SC_96281_34_9_10 \n",
       "                          2182456                           2182480 \n",
       "                 SC_96359_47_2_10            M5.TCGTAGAGTAATAGCA_12 \n",
       "                          2183950                           2361662 "
      ]
     },
     "metadata": {},
     "output_type": "display_data"
    }
   ],
   "source": [
    "dataobj.filtered$cid"
   ]
  },
  {
   "cell_type": "code",
   "execution_count": null,
   "id": "792f7ff7-2b3d-41fc-b180-e8807ddafb1c",
   "metadata": {},
   "outputs": [],
   "source": []
  }
 ],
 "metadata": {
  "kernelspec": {
   "display_name": "R4.0.3",
   "language": "R",
   "name": "r40"
  },
  "language_info": {
   "codemirror_mode": "r",
   "file_extension": ".r",
   "mimetype": "text/x-r-source",
   "name": "R",
   "pygments_lexer": "r",
   "version": "4.0.3"
  }
 },
 "nbformat": 4,
 "nbformat_minor": 5
}
