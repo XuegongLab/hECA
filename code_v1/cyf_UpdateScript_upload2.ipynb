{
 "cells": [
  {
   "cell_type": "code",
   "execution_count": 1,
   "metadata": {},
   "outputs": [],
   "source": [
    "import sys\n",
    "import os\n",
    "import pandas as pd\n",
    "import ECAUGT as HCAd_Client\n",
    "import time\n",
    "import multiprocessing\n",
    "import numpy as np"
   ]
  },
  {
   "cell_type": "code",
   "execution_count": 2,
   "metadata": {},
   "outputs": [],
   "source": [
    "# set parameters\n",
    "endpoint = \"https://HCAd-Datasets2.cn-beijing.ots.aliyuncs.com\"\n",
    "access_id = \"LTAI5tHMCadpjLSJsik8AjXg\" #enter your id and keys\n",
    "access_key = \"gRFJlZnKWpqOAOQWqWYcK7CMG34xFK\"\n",
    "instance_name = \"HCAd-Datasets\"\n",
    "table_name = 'HCA_d'"
   ]
  },
  {
   "cell_type": "code",
   "execution_count": 3,
   "metadata": {},
   "outputs": [
    {
     "name": "stdout",
     "output_type": "stream",
     "text": [
      "Connected to the server, find the table.\n",
      "HCA_d\n",
      "TableName: HCA_d\n",
      "PrimaryKey: [('cid', 'INTEGER')]\n",
      "Reserved read throughput: 0\n",
      "Reserved write throughput: 0\n",
      "Last increase throughput time: 1605795297\n",
      "Last decrease throughput time: None\n",
      "table options's time to live: -1\n",
      "table options's max version: 1\n",
      "table options's max_time_deviation: 86400\n"
     ]
    },
    {
     "data": {
      "text/plain": [
       "0"
      ]
     },
     "execution_count": 3,
     "metadata": {},
     "output_type": "execute_result"
    }
   ],
   "source": [
    "# # setup client\n",
    "HCAd_Client.Setup_Client(endpoint, access_id, access_key, instance_name, table_name)"
   ]
  },
  {
   "cell_type": "code",
   "execution_count": 4,
   "metadata": {},
   "outputs": [],
   "source": [
    "hcad_organs = ['Placenta_ChorionicVillus_Guo2020',\n",
    " 'ovary_ovary_HCLFetalFemaleGonad1',\n",
    " 'ovary_ovary_HCLFetalFemaleGonad2',\n",
    " 'prostate_prostate_HCLAdultProstate1',\n",
    " 'testis_testis_HCLFetalMaleGonad1',\n",
    " 'testis_testis_HCLFetalMaleGonad2',\n",
    " 'uterinetube_uterinetube_HCLAdultFallopiantube1',\n",
    " 'uterus_cervix_HCLAdultCervix1']"
   ]
  },
  {
   "cell_type": "code",
   "execution_count": 6,
   "metadata": {},
   "outputs": [],
   "source": [
    "for organ in hcad_organs:\n",
    "    df_update = pd.read_csv(\"/stor/public/hcad/db_v1/\" + organ + \"/\" + organ + \"df_update.csv\")\n",
    "    df_update = df_update.replace(np.NaN,\"NA\")\n",
    "    rows_to_get = [[(\"cid\",i)]for i in df_update['cid']]\n",
    "    updates = [[(\"hcad_name\",df_update['hcad_name'][j]),(\"cl_name\",\"NA\"),(\"tissue_type\",df_update['tissue_type'][j]),(\"cell_type\",df_update['cell_type'][j]),(\"marker_gene\",df_update['marker_gene'][j])] for j in range(df_update.shape[0])]\n",
    "    HCAd_Client.update_batch(rows_to_get,updates,thread_num = 30)\n",
    "    df = HCAd_Client.get_columnsbycell_para(rows_to_get = rows_to_get, cols_to_get=[\"cell_type\",'cl_name','hcad_name',\"marker_gene\",\"tissue_type\"], col_filter=None, do_transfer = True, thread_num = multiprocessing.cpu_count()-1)\n",
    "    "
   ]
  },
  {
   "cell_type": "code",
   "execution_count": null,
   "metadata": {},
   "outputs": [],
   "source": []
  }
 ],
 "metadata": {
  "kernelspec": {
   "display_name": "Python 3",
   "language": "python",
   "name": "python3"
  },
  "language_info": {
   "codemirror_mode": {
    "name": "ipython",
    "version": 3
   },
   "file_extension": ".py",
   "mimetype": "text/x-python",
   "name": "python",
   "nbconvert_exporter": "python",
   "pygments_lexer": "ipython3",
   "version": "3.8.3"
  }
 },
 "nbformat": 4,
 "nbformat_minor": 4
}
