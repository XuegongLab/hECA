{
 "cells": [
  {
   "cell_type": "code",
   "execution_count": 1,
   "metadata": {},
   "outputs": [],
   "source": [
    "library(data.table)"
   ]
  },
  {
   "cell_type": "markdown",
   "metadata": {},
   "source": [
    "# load"
   ]
  },
  {
   "cell_type": "code",
   "execution_count": 37,
   "metadata": {},
   "outputs": [],
   "source": [
    "data.anno <- read.csv('/home/chenyx/HHCA_d/HCL/annotation_rmbatch_data/Adult-Lung2_rmbatchAnno.csv', header =TRUE, row.names = 4)"
   ]
  },
  {
   "cell_type": "code",
   "execution_count": 38,
   "metadata": {},
   "outputs": [],
   "source": [
    "data.matrix <- read.table('/home/chenyx/HHCA_d/HCL/dge_rmbatch_data/Adult-Lung2_rmbatchdge.txt.gz', sep=',',h = T)"
   ]
  },
  {
   "cell_type": "markdown",
   "metadata": {},
   "source": [
    "# Build metadata"
   ]
  },
  {
   "cell_type": "code",
   "execution_count": 40,
   "metadata": {},
   "outputs": [],
   "source": [
    "metadata <- data.frame(rownames(data.anno))"
   ]
  },
  {
   "cell_type": "code",
   "execution_count": 41,
   "metadata": {},
   "outputs": [],
   "source": [
    "metadata['organ'] <- 'Lung'\n",
    "metadata['region'] <- 'Lung'\n",
    "metadata['subregion'] <- 'NA'\n",
    "metadata['sample_status'] <- 'normal'\n",
    "metadata['donor_ID'] <- data.anno['Name']\n",
    "metadata['donor_gender'] <- data.anno['Gender']\n",
    "metadata['donor_age'] <- '21Y'\n",
    "colnames(metadata)[1] <- 'cell_ID'"
   ]
  },
  {
   "cell_type": "code",
   "execution_count": 42,
   "metadata": {},
   "outputs": [],
   "source": [
    "metadata <- metadata[c('organ','region','subregion','sample_status','cell_ID','donor_ID','donor_gender','donor_age')]"
   ]
  },
  {
   "cell_type": "markdown",
   "metadata": {},
   "source": [
    "# Build expression matrix"
   ]
  },
  {
   "cell_type": "code",
   "execution_count": 43,
   "metadata": {},
   "outputs": [],
   "source": [
    "data.matrix <- data.matrix[,rownames(data.anno)]"
   ]
  },
  {
   "cell_type": "code",
   "execution_count": 44,
   "metadata": {},
   "outputs": [],
   "source": [
    "data.matrix <- cbind(rownames(data.matrix),data.matrix)\n",
    "colnames(data.matrix)[1] <- 'cell_ID'"
   ]
  },
  {
   "cell_type": "markdown",
   "metadata": {},
   "source": [
    "# build annotation"
   ]
  },
  {
   "cell_type": "code",
   "execution_count": 45,
   "metadata": {},
   "outputs": [],
   "source": [
    "annotation <- data.anno['Celltype']\n",
    "annotation['cell_ID'] <- rownames(annotation)\n",
    "annotation <- annotation[,c('cell_ID','Celltype')]\n",
    "colnames(annotation)[2]<- 'cell_cluster'"
   ]
  },
  {
   "cell_type": "markdown",
   "metadata": {},
   "source": [
    "# Save"
   ]
  },
  {
   "cell_type": "code",
   "execution_count": 46,
   "metadata": {},
   "outputs": [],
   "source": [
    "datasetname = '/stor/public/hcad/lung_lung_HCLAdultLung2/lung_lung_HCLAdultLung2'"
   ]
  },
  {
   "cell_type": "code",
   "execution_count": 47,
   "metadata": {},
   "outputs": [],
   "source": [
    "write.table(data.matrix,file = paste0(datasetname,'_expression.tsv'), sep='\\t', col.names=T,quote= F,row.names = F)"
   ]
  },
  {
   "cell_type": "code",
   "execution_count": 48,
   "metadata": {},
   "outputs": [],
   "source": [
    "write.table(metadata,file = paste0(datasetname,'_metadata.tsv'), sep='\\t', col.names=T,quote= F,row.names = F)\n",
    "write.table(annotation,file = paste0(datasetname,'_annotation.tsv'), sep='\\t', col.names=T,quote= F,row.names = F)"
   ]
  }
 ],
 "metadata": {
  "kernelspec": {
   "display_name": "R4.0",
   "language": "R",
   "name": "ir3"
  },
  "language_info": {
   "codemirror_mode": "r",
   "file_extension": ".r",
   "mimetype": "text/x-r-source",
   "name": "R",
   "pygments_lexer": "r",
   "version": "4.0.3"
  }
 },
 "nbformat": 4,
 "nbformat_minor": 4
}
