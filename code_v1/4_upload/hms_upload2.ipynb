{
 "cells": [
  {
   "cell_type": "markdown",
   "metadata": {},
   "source": [
    "## Load packages"
   ]
  },
  {
   "cell_type": "code",
   "execution_count": 2,
   "metadata": {},
   "outputs": [],
   "source": [
    "import sys\n",
    "import pandas as pd\n",
    "import ECAUGT as HCAd_Client\n",
    "import time\n",
    "import multiprocessing\n",
    "import numpy as np"
   ]
  },
  {
   "cell_type": "markdown",
   "metadata": {},
   "source": [
    "## Connect to server"
   ]
  },
  {
   "cell_type": "code",
   "execution_count": 12,
   "metadata": {},
   "outputs": [],
   "source": [
    "# set parameters\n",
    "endpoint = \"\"\n",
    "access_id = \"\" #enter your id and keys\n",
    "access_key = \"\"\n",
    "instance_name = \"\"\n",
    "table_name = ''"
   ]
  },
  {
   "cell_type": "code",
   "execution_count": 13,
   "metadata": {},
   "outputs": [
    {
     "name": "stdout",
     "output_type": "stream",
     "text": [
      "Connected to the server, find the table.\n",
      "HCA_d\n",
      "TableName: HCA_d\n",
      "PrimaryKey: [('cid', 'INTEGER')]\n",
      "Reserved read throughput: 0\n",
      "Reserved write throughput: 0\n",
      "Last increase throughput time: 1605795297\n",
      "Last decrease throughput time: None\n",
      "table options's time to live: -1\n",
      "table options's max version: 1\n",
      "table options's max_time_deviation: 86400\n"
     ]
    },
    {
     "data": {
      "text/plain": [
       "0"
      ]
     },
     "execution_count": 13,
     "metadata": {},
     "output_type": "execute_result"
    }
   ],
   "source": [
    "# # setup client\n",
    "HCAd_Client.Setup_Client(endpoint, access_id, access_key, instance_name, table_name)"
   ]
  },
  {
   "cell_type": "markdown",
   "metadata": {},
   "source": [
    "# load df_update"
   ]
  },
  {
   "cell_type": "code",
   "execution_count": 4,
   "metadata": {},
   "outputs": [],
   "source": [
    "Intestine_list =['Colon_Transverse-Colon_HCLAdultTransverse-Colon2','Colon_Sigmoid-Colon_HCLAdultSigmoid-Colon1','Intestine_Intestine_HCLFetalIntestine1','Intestine_Intestine_HCLFetalIntestine2','Intestine_Intestine_HCLFetalIntestine3','Intestine_Intestine_HCLFetalIntestine4','Intestine_Intestine_HCLFetalIntestine5','Rectum_Rectum_HCLAdultRectum1',\"Intestine_AdultOmentum1_Guo2020\",\"Intestine_AdultOmentum2_Guo2020\",\"Intestine_AdultOmentum3_Guo2020\",'colon_colon_Kinchen2018','colon_colon_Parikh2019','intestine_intestine_Chen2019']\n",
    "SmallIntestine_list =['Duodenum_Duodenum_HCLAdultDuodenum1','Ileum_Ileum_HCLAdultIleum2','Jejunum_Jejunum_HCLAdultJejunum2']\n",
    "stomach_list = ['stomach_stomach_HCLAdultStomach1','stomach_stomach_HCLAdultStomach2','stomach_stomach_HCLAdultStomach3',\"stomach_stomach_HCLFetalStomach1\",'stomach_stomach_HCLFetalStomach2']\n",
    "adipose_list = ['Adipose_Adipose_HCLAdultAdipose1']\n",
    "muscle_list = ['Muscle_Muscle_HCLAdultMuscle1','Muscle_Muscle_HCLFetalMuscle1']\n",
    "rib_list = ['Rib_Rib_HCLFetalRib2','Rib_Rib_HCLFetalRib3']\n",
    "oes_list = ['oesophagus_oesophagus_Madissoon2019']"
   ]
  },
  {
   "cell_type": "code",
   "execution_count": 50,
   "metadata": {},
   "outputs": [
    {
     "name": "stdout",
     "output_type": "stream",
     "text": [
      "Colon_Transverse-Colon_HCLAdultTransverse-Colon2\n",
      "['Plasma B cell' 'B cell' 'Enterocyte' 'Goblet cell' 'Mast cell' 'T cell'\n",
      " 'Enterocyte progenitor' 'Macrophage' 'Smooth muscle cell'\n",
      " 'Endothelial cell' 'Fibroblast' 'Stromal cell']\n",
      "Colon_Sigmoid-Colon_HCLAdultSigmoid-Colon1\n",
      "['NA' 'Enterocyte' 'B cell' 'Enterocyte progenitor' 'Goblet cell'\n",
      " 'Stromal cell' 'T cell' 'Mast cell' 'Smooth muscle cell' 'Macrophage']\n",
      "Intestine_Intestine_HCLFetalIntestine1\n",
      "['Enterocyte progenitor' 'Enterocyte' 'Neuron' 'Stromal cell' 'Macrophage'\n",
      " 'Proliferating T cell' 'Endothelial cell' 'Smooth muscle cell'\n",
      " 'Goblet cell' 'Fibroblast' 'Endocrine cell']\n",
      "Intestine_Intestine_HCLFetalIntestine2\n",
      "['Enterocyte' 'Vascular endothelial cell' 'Proliferating T cell' 'Neuron'\n",
      " 'Smooth muscle cell' 'Myofibroblast' 'NA']\n",
      "Intestine_Intestine_HCLFetalIntestine3\n",
      "['Enterocyte' 'Enterocyte progenitor' 'Proliferating T cell'\n",
      " 'Lymphatic endothelial cell' 'Fibroblast' 'Macrophage' 'Neuron'\n",
      " 'Goblet cell' 'Erythrocyte']\n",
      "Intestine_Intestine_HCLFetalIntestine4\n",
      "['Fibroblast' 'Dendritic cell' 'T cell' 'Endothelial cell' 'Enterocyte'\n",
      " 'Erythrocyte' 'Smooth muscle cell' 'Stromal cell' 'Neuron' 'Goblet cell']\n",
      "Intestine_Intestine_HCLFetalIntestine5\n",
      "['Enterocyte' 'Erythrocyte' 'Macrophage' 'Endothelial cell' 'Goblet cell'\n",
      " 'Fibroblast' 'Antigen presenting cell' 'Neuron']\n",
      "Rectum_Rectum_HCLAdultRectum1\n",
      "['Enterocyte' 'B cell' 'Inflamed epithelial cell' 'T cell' 'Plasma B cell'\n",
      " 'Enteric glial cell' 'NA' 'Stromal cell' 'Macrophage' 'Mast cell']\n",
      "Intestine_AdultOmentum1_Guo2020\n",
      "['Macrophage' 'Mesothelial cell' 'Neutrophilic granulocyte' 'Stromal cell'\n",
      " 'Endothelial cell' 'T cell']\n",
      "Intestine_AdultOmentum2_Guo2020\n",
      "['B cell' 'Macrophage/Neutrophilic granulocyte' 'T cell'\n",
      " 'Mesothelial cell' 'Macrophage' 'Stromal cell' 'Mast cell']\n",
      "Intestine_AdultOmentum3_Guo2020\n",
      "['Macrophage/Granulocyte' 'Stromal cell' 'T cell'\n",
      " 'Neutrophilic granulocyte' 'Macrophage' 'Granulocyte']\n",
      "colon_colon_Kinchen2018\n",
      "['Adipocyte' 'Fibroblast' 'NA' 'B cell' 'Smooth muscle cell'\n",
      " 'Endothelial cell' 'Schwann cell']\n",
      "colon_colon_Parikh2019\n",
      "['Enterocyte' 'Macrophage' 'Goblet cell' 'Epithelial cell' 'Fibroblast'\n",
      " 'NA' 'Mast cell']\n",
      "intestine_intestine_Chen2019\n",
      "['Enterocyte' 'Schwann cell' 'NA' 'Enterocyte progenitor' 'Paneth cell'\n",
      " 'Goblet cell' 'B cell' 'Enteroendocrine cell']\n",
      "Duodenum_Duodenum_HCLAdultDuodenum1\n",
      "['Goblet cell' 'Enterocyte' 'Enterocyte progenitor' 'B cell' 'Macrophage'\n",
      " 'T cell' 'Endothelial cell' 'Fibroblast']\n",
      "Ileum_Ileum_HCLAdultIleum2\n",
      "['B cell' 'Paneth cell' 'Macrophage' 'Mast cell' 'T cell'\n",
      " 'Endothelial cell' 'Enterocyte progenitor' 'Goblet cell' 'Fibroblast'\n",
      " 'Dendritic cell' 'Neuron' 'Smooth muscle cell' 'Enterocyte']\n",
      "Jejunum_Jejunum_HCLAdultJejunum2\n",
      "['Enterocyte' 'Macrophage' 'Fibroblast' 'Smooth muscle cell' 'B cell'\n",
      " 'T cell' 'Mast cell' 'Goblet cell' 'Paneth cell' 'Endothelial cell']\n",
      "stomach_stomach_HCLAdultStomach1\n",
      "['Pit cell' 'Chief cell' 'B cell' 'Parietal cell' 'D cell(X/A cell)'\n",
      " 'Stromal cell' 'Endothelial cell']\n",
      "stomach_stomach_HCLAdultStomach2\n",
      "['Epithelial cell' 'Myeloid cell' 'Stromal cell' 'B cell'\n",
      " 'Endothelial cell' 'Granulocyte' 'Macrophage' 'T cell' 'Mast cell'\n",
      " 'Smooth muscle cell']\n",
      "stomach_stomach_HCLAdultStomach3\n",
      "['Epithelial cell' 'Chief cell' 'B cell' 'D cell(X/A cell)'\n",
      " 'Chromaffin cell' 'CD8 T cell' 'Pit cell' 'Inflammatory cell'\n",
      " 'Parietal cell' 'Macrophage' 'Fibroblast' 'Mast cell']\n",
      "stomach_stomach_HCLFetalStomach1\n",
      "['NA' 'Erythrocyte' 'Endothelial cell' 'Epithelial cell' 'Muscle cell'\n",
      " 'Pit cell' 'Antigen presenting cell' 'Stromal cell' 'Neuron']\n",
      "stomach_stomach_HCLFetalStomach2\n",
      "['Epithelial cell' 'Enterocyte' 'Fibroblast' 'Neuron' 'Dendritic cell'\n",
      " 'Endothelial cell' 'Smooth muscle cell' 'T cell']\n",
      "Adipose_Adipose_HCLAdultAdipose1\n",
      "['Macrophage' 'Fibroblast' 'Adipocyte' 'NA']\n",
      "Muscle_Muscle_HCLAdultMuscle1\n",
      "['Smooth muscle cell' 'Fibroblast' 'Endothelial cell'\n",
      " 'Neutrophilic granulocyte' 'Dendritic cell' 'T cell'\n",
      " 'Muscle progenitor cell' 'B cell' 'Mast cell' 'Fast skeletal muscle cell'\n",
      " 'NA']\n",
      "Muscle_Muscle_HCLFetalMuscle1\n",
      "['Proliferating T cell' 'Neuron' 'Stromal cell' 'Skeletal muscle cell'\n",
      " 'Smooth muscle cell' 'Tendon cell' 'Fibroblast'\n",
      " 'Autonomic nervous system' 'Erythrocyte' 'Endothelial cell' 'Macrophage']\n",
      "Rib_Rib_HCLFetalRib2\n",
      "['Chondrocyte' 'T cell' 'Fibroblast' 'Erythrocyte']\n",
      "Rib_Rib_HCLFetalRib3\n",
      "['Neutrophilic granulocyte' 'Osteoclast' 'Chondrocyte' 'T cell'\n",
      " 'Fibroblast' 'Erythrocyte' 'Endothelial cell']\n",
      "oesophagus_oesophagus_Madissoon2019\n",
      "['Epithelial cell' 'T cell' 'Dendritic cell' 'Endothelial cell' 'B cell'\n",
      " 'Mast cell']\n"
     ]
    }
   ],
   "source": [
    "for name in data_list:\n",
    "    print(name)\n",
    "    df_update = pd.read_csv(name+\"_df_update.csv\",)    \n",
    "    df_update = df_update.replace(np.NaN,\"NA\")\n",
    "    rows_to_get = [[(\"cid\",i)]for i in df_update['cid']]  \n",
    "    print(df_update.cell_type.unique())\n",
    "    updates = [[(\"hcad_name\",df_update['hcad_name'][j]),(\"cl_name\",\"NA\"),(\"tissue_type\",df_update['tissue_type'][j]),(\"cell_type\",df_update['cell_type'][j]),(\"marker_gene\",df_update['marker_gene'][j])] for j in range(df_update.shape[0])]    \n",
    "    HCAd_Client.update_batch(rows_to_get,updates,thread_num = 30)    "
   ]
  },
  {
   "cell_type": "code",
   "execution_count": null,
   "metadata": {},
   "outputs": [],
   "source": []
  }
 ],
 "metadata": {
  "kernelspec": {
   "display_name": "pyr2",
   "language": "python",
   "name": "pyr2"
  },
  "language_info": {
   "codemirror_mode": {
    "name": "ipython",
    "version": 3
   },
   "file_extension": ".py",
   "mimetype": "text/x-python",
   "name": "python",
   "nbconvert_exporter": "python",
   "pygments_lexer": "ipython3",
   "version": "3.7.4"
  }
 },
 "nbformat": 4,
 "nbformat_minor": 4
}
