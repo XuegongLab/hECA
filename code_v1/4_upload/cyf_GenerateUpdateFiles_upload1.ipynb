{
 "cells": [
  {
   "cell_type": "code",
   "execution_count": 9,
   "metadata": {},
   "outputs": [],
   "source": [
    "library(Seurat)"
   ]
  },
  {
   "cell_type": "code",
   "execution_count": 5,
   "metadata": {},
   "outputs": [],
   "source": [
    "hcad_organs <- c('Placenta_ChorionicVillus_Guo2020',\n",
    " 'ovary_ovary_HCLFetalFemaleGonad1',\n",
    " 'ovary_ovary_HCLFetalFemaleGonad2',\n",
    " 'prostate_prostate_HCLAdultProstate1',\n",
    " 'testis_testis_HCLFetalMaleGonad1',\n",
    " 'testis_testis_HCLFetalMaleGonad2',\n",
    " 'uterinetube_uterinetube_HCLAdultFallopiantube1',\n",
    " 'uterus_cervix_HCLAdultCervix1')"
   ]
  },
  {
   "cell_type": "code",
   "execution_count": 6,
   "metadata": {},
   "outputs": [
    {
     "name": "stdout",
     "output_type": "stream",
     "text": [
      "[1] \"Placenta_ChorionicVillus_Guo2020 Done!\"\n",
      "[1] \"ovary_ovary_HCLFetalFemaleGonad1 Done!\"\n",
      "[1] \"ovary_ovary_HCLFetalFemaleGonad2 Done!\"\n",
      "[1] \"prostate_prostate_HCLAdultProstate1 Done!\"\n",
      "[1] \"testis_testis_HCLFetalMaleGonad1 Done!\"\n",
      "[1] \"testis_testis_HCLFetalMaleGonad2 Done!\"\n",
      "[1] \"uterinetube_uterinetube_HCLAdultFallopiantube1 Done!\"\n",
      "[1] \"uterus_cervix_HCLAdultCervix1 Done!\"\n"
     ]
    }
   ],
   "source": [
    "for (organ in hcad_organs){\n",
    "    organ_path <- paste0(\"/stor/public/hcad/db_v1/\", organ, \"/\", organ, \".seuratobj.dbupload_v1.rds\")\n",
    "    dataobj <- readRDS(organ_path)\n",
    "    columns_to_update <- c(\"cid\",\"hcad_name\",\"cl_name\",\"tissue_type\",\"cell_type\",\"marker_gene\")\n",
    "    df_update <- dataobj@meta.data[,columns_to_update]\n",
    "    save_path <- paste0(\"/stor/public/hcad/db_v1/\", organ, \"/\", organ, \"df_update.csv\")\n",
    "    write.csv(df_update,save_path)\n",
    "    print(paste0(organ, \" Done!\"))\n",
    "}"
   ]
  },
  {
   "cell_type": "code",
   "execution_count": null,
   "metadata": {},
   "outputs": [],
   "source": []
  }
 ],
 "metadata": {
  "kernelspec": {
   "display_name": "R",
   "language": "R",
   "name": "ir"
  },
  "language_info": {
   "codemirror_mode": "r",
   "file_extension": ".r",
   "mimetype": "text/x-r-source",
   "name": "R",
   "pygments_lexer": "r",
   "version": "4.0.5"
  }
 },
 "nbformat": 4,
 "nbformat_minor": 4
}
