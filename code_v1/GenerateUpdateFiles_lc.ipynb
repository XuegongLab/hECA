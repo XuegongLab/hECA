{
 "cells": [
  {
   "cell_type": "code",
   "execution_count": 1,
   "metadata": {
    "execution": {
     "iopub.execute_input": "2021-06-23T09:11:57.392486Z",
     "iopub.status.busy": "2021-06-23T09:11:57.386511Z",
     "iopub.status.idle": "2021-06-23T09:11:59.640219Z",
     "shell.execute_reply": "2021-06-23T09:11:59.639508Z"
    },
    "tags": []
   },
   "outputs": [],
   "source": [
    "library(Seurat)"
   ]
  },
  {
   "cell_type": "markdown",
   "metadata": {},
   "source": [
    "# load a dataobj"
   ]
  },
  {
   "cell_type": "code",
   "execution_count": 2,
   "metadata": {
    "execution": {
     "iopub.execute_input": "2021-06-23T09:12:31.155478Z",
     "iopub.status.busy": "2021-06-23T09:12:31.104826Z",
     "iopub.status.idle": "2021-06-23T09:12:31.353864Z",
     "shell.execute_reply": "2021-06-23T09:12:31.353167Z"
    },
    "tags": []
   },
   "outputs": [],
   "source": [
    "Intestine_list <-c('Colon_Transverse-Colon_HCLAdultTransverse-Colon2','Colon_Sigmoid-Colon_HCLAdultSigmoid-Colon1','Intestine_Intestine_HCLFetalIntestine1','Intestine_Intestine_HCLFetalIntestine2','Intestine_Intestine_HCLFetalIntestine3','Intestine_Intestine_HCLFetalIntestine4','Intestine_Intestine_HCLFetalIntestine5','Rectum_Rectum_HCLAdultRectum1',\"Intestine_AdultOmentum1_Guo2020\",\"Intestine_AdultOmentum2_Guo2020\",\"Intestine_AdultOmentum3_Guo2020\",'colon_colon_Kinchen2018','colon_colon_Parikh2019','intestine_intestine_Chen2019')\n",
    "SmallIntestine_list <-c('Duodenum_Duodenum_HCLAdultDuodenum1','Ileum_Ileum_HCLAdultIleum2','Jejunum_Jejunum_HCLAdultJejunum2')\n",
    "UrinaryOrgans_list<-c('Bladder_PartialTissue_HCLAdultBladder1','Bladder_PartialTissue_HCLAdultBladder2','Ureter_LowerUreter_HCLAdultUreter')\n",
    "Kidney_list = c('Kidney_AdjacentNormalTissue_HCLAdultKidney2','Kidney_PartialTissue_HCLAdultKidney3','Kidney_LeftKidney_HCLAdultKidney4','Kidney_Kidney_HCLFetalKidney3','Kidney_Kidney_HCLFetalKidney4','Kidney_Kidney_HCLFetalKidney5','Kidney_Kidney_HCLFetalKidney6')\n",
    "stomach_list = c('stomach_stomach_HCLAdultStomach1','stomach_stomach_HCLAdultStomach2','stomach_stomach_HCLAdultStomach3',\"stomach_stomach_HCLFetalStomach1\",'stomach_stomach_HCLFetalStomach2')\n",
    "adipose_list = c('Adipose_Adipose_HCLAdultAdipose1')\n",
    "muscle_list = c('Muscle_Muscle_HCLAdultMuscle1','Muscle_Muscle_HCLFetalMuscle1')\n",
    "rib_list = c('Rib_Rib_HCLFetalRib2','Rib_Rib_HCLFetalRib3')\n",
    "oes_list = c('oesophagus_oesophagus_Madissoon2019')\n",
    "other_list=c('uterinetube_uterinetube_HCLAdultFallopiantube1','Placenta_ChorionicVillus_Guo2020','ovary_ovary_HCLFetalFemaleGonad2','ovary_ovary_HCLFetalFemaleGonad1')"
   ]
  },
  {
   "cell_type": "code",
   "execution_count": 3,
   "metadata": {
    "execution": {
     "iopub.execute_input": "2021-06-23T09:12:34.242012Z",
     "iopub.status.busy": "2021-06-23T09:12:34.240331Z",
     "iopub.status.idle": "2021-06-23T09:12:38.348209Z",
     "shell.execute_reply": "2021-06-23T09:12:38.347357Z"
    },
    "tags": []
   },
   "outputs": [],
   "source": [
    "#=============生成所有列表中的csv\n",
    "for(data in Kidney_list){\n",
    "dataobj <- readRDS(paste0(\"/stor/public/hcad/db_v1/\",data,\"/\",data,\".seuratobj.dbupload_v1.rds\"))\n",
    "columns_to_update <- c(\"cid\",\"hcad_name\",\"cl_name\",\"tissue_type\",\"cell_type\",\"marker_gene\")\n",
    "df_update <- dataobj@meta.data[,columns_to_update]\n",
    "svae_path <- paste0(\"csv/\",data,\"_\",\"df_update.csv\")\n",
    "write.csv(df_update,svae_path)\n",
    "# break\n",
    "    }"
   ]
  },
  {
   "cell_type": "code",
   "execution_count": 2,
   "metadata": {},
   "outputs": [],
   "source": [
    "dataobj <- readRDS(\"/stor/public/hcad/db_v1.1/Pleura_LeftThoracicWall_HCLAdult1/Pleura_LeftThoracicWall_HCLAdult1.seuratobj.dbupload_v1.1.rds\")"
   ]
  },
  {
   "cell_type": "markdown",
   "metadata": {},
   "source": [
    "# select columns to updatem"
   ]
  },
  {
   "cell_type": "code",
   "execution_count": 4,
   "metadata": {},
   "outputs": [],
   "source": [
    "columns_to_update <- c(\"cid\",\"hcad_name\",\"cl_name\",\"tissue_type\",\"cell_type\",\"marker_gene\")\n",
    "df_update <- dataobj@meta.data[,columns_to_update]"
   ]
  },
  {
   "cell_type": "markdown",
   "metadata": {},
   "source": [
    "# save file"
   ]
  },
  {
   "cell_type": "code",
   "execution_count": 7,
   "metadata": {},
   "outputs": [],
   "source": [
    "svae_path <- \"df_update.csv\"\n",
    "write.csv(df_update,svae_path)"
   ]
  }
 ],
 "metadata": {
  "kernelspec": {
   "display_name": "R",
   "language": "R",
   "name": "ir"
  },
  "language_info": {
   "codemirror_mode": "r",
   "file_extension": ".r",
   "mimetype": "text/x-r-source",
   "name": "R",
   "pygments_lexer": "r",
   "version": "3.6.1"
  }
 },
 "nbformat": 4,
 "nbformat_minor": 4
}
